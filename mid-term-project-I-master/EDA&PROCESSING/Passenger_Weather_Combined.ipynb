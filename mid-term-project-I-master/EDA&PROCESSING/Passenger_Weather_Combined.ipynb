{
 "cells": [
  {
   "cell_type": "code",
   "execution_count": 62,
   "id": "ba9f2865-21cd-4995-8bb9-fd905b50be74",
   "metadata": {},
   "outputs": [],
   "source": [
    "# merge dfs\n",
    "import pandas as pd"
   ]
  },
  {
   "cell_type": "code",
   "execution_count": 91,
   "id": "49f1295d-9e9b-4689-96ce-630489d1ccc1",
   "metadata": {},
   "outputs": [
    {
     "name": "stderr",
     "output_type": "stream",
     "text": [
      "C:\\Users\\furqa\\anaconda3\\lib\\site-packages\\IPython\\core\\interactiveshell.py:3444: DtypeWarning: Columns (48) have mixed types.Specify dtype option on import or set low_memory=False.\n",
      "  exec(code_obj, self.user_global_ns, self.user_ns)\n"
     ]
    }
   ],
   "source": [
    "x = pd.read_csv('X.csv')\n",
    "w = pd.read_csv('weather_shiv.csv')\n",
    "pd.set_option('display.max_columns', None)"
   ]
  },
  {
   "cell_type": "code",
   "execution_count": 92,
   "id": "386b9f91-035d-4053-a589-a8198481f14e",
   "metadata": {},
   "outputs": [],
   "source": [
    "x = x.drop(['Unnamed: 0'],axis=1)\n",
    "w = w.drop(['Unnamed: 0'],axis=1)"
   ]
  },
  {
   "cell_type": "code",
   "execution_count": 93,
   "id": "da19d329-1e2a-463e-ad27-b929f40638b0",
   "metadata": {},
   "outputs": [],
   "source": [
    "w = w.dropna(subset=['arr_delay'])"
   ]
  },
  {
   "cell_type": "code",
   "execution_count": 94,
   "id": "89507edc-a50a-48cf-91e9-1a52f585c81a",
   "metadata": {},
   "outputs": [
    {
     "data": {
      "text/plain": [
       "array(['fl_date', 'mkt_unique_carrier', 'branded_code_share',\n",
       "       'mkt_carrier', 'mkt_carrier_fl_num', 'op_unique_carrier',\n",
       "       'tail_num', 'op_carrier_fl_num', 'origin_airport_id', 'origin',\n",
       "       'origin_city_name', 'dest_airport_id', 'dest', 'dest_city_name',\n",
       "       'crs_dep_time', 'dep_time', 'dep_delay', 'taxi_out', 'wheels_off',\n",
       "       'wheels_on', 'taxi_in', 'crs_arr_time', 'arr_time', 'arr_delay',\n",
       "       'cancelled', 'cancellation_code', 'diverted', 'dup',\n",
       "       'crs_elapsed_time', 'actual_elapsed_time', 'air_time', 'flights',\n",
       "       'distance', 'carrier_delay', 'weather_delay', 'nas_delay',\n",
       "       'security_delay', 'late_aircraft_delay', 'first_dep_time',\n",
       "       'total_add_gtime', 'longest_add_gtime', 'no_name',\n",
       "       'Carrier_Origin_Dest_Airport', 'seats', 'passengers',\n",
       "       'Passengers_Seat_Ratio', 'mkt_op_carrier_difference',\n",
       "       'aircraft_group', 'class', 'Taxi_Holdup'], dtype=object)"
      ]
     },
     "execution_count": 94,
     "metadata": {},
     "output_type": "execute_result"
    }
   ],
   "source": [
    "x.columns.values"
   ]
  },
  {
   "cell_type": "code",
   "execution_count": 95,
   "id": "9b4edb64-5586-4c12-9df4-0b5efbef580e",
   "metadata": {},
   "outputs": [],
   "source": [
    "x= x[['fl_date',\n",
    "   'mkt_unique_carrier',\n",
    "   'origin_city_name',\n",
    "   'dest_city_name',\n",
    "   'crs_dep_time',\n",
    "   'crs_arr_time',\n",
    "   'arr_delay',\n",
    "   'crs_elapsed_time',\n",
    "   'distance',\n",
    "   'Carrier_Origin_Dest_Airport',\n",
    "   'seats',\n",
    "   'passengers',\n",
    "   'Passengers_Seat_Ratio',\n",
    "   'mkt_op_carrier_difference',\n",
    "   'aircraft_group',\n",
    "   'Taxi_Holdup',\n",
    "   'class']]"
   ]
  },
  {
   "cell_type": "code",
   "execution_count": 96,
   "id": "9735baca-5c44-4c4f-bf96-3d0689f5b1ea",
   "metadata": {},
   "outputs": [],
   "source": [
    "w = w.drop(['branded_code_share', 'mkt_carrier', 'dest_airport_id', 'origin_airport_id',\n",
    "           'mkt_carrier_fl_num',\n",
    "           'op_unique_carrier',\n",
    "           'tail_num',\n",
    "           'op_carrier_fl_num',\n",
    "           'origin',\n",
    "           'dest',\n",
    "           'dup',\n",
    "           'flights'],axis=1)"
   ]
  },
  {
   "cell_type": "code",
   "execution_count": 97,
   "id": "3b6fd892-f07c-4f36-a33c-d6a6cc937dcd",
   "metadata": {},
   "outputs": [
    {
     "data": {
      "text/html": [
       "<div>\n",
       "<style scoped>\n",
       "    .dataframe tbody tr th:only-of-type {\n",
       "        vertical-align: middle;\n",
       "    }\n",
       "\n",
       "    .dataframe tbody tr th {\n",
       "        vertical-align: top;\n",
       "    }\n",
       "\n",
       "    .dataframe thead th {\n",
       "        text-align: right;\n",
       "    }\n",
       "</style>\n",
       "<table border=\"1\" class=\"dataframe\">\n",
       "  <thead>\n",
       "    <tr style=\"text-align: right;\">\n",
       "      <th></th>\n",
       "      <th>fl_date</th>\n",
       "      <th>mkt_unique_carrier</th>\n",
       "      <th>origin_city_name</th>\n",
       "      <th>dest_city_name</th>\n",
       "      <th>crs_dep_time</th>\n",
       "      <th>crs_arr_time</th>\n",
       "      <th>arr_delay</th>\n",
       "      <th>crs_elapsed_time</th>\n",
       "      <th>distance</th>\n",
       "      <th>Carrier_Origin_Dest_Airport</th>\n",
       "      <th>seats</th>\n",
       "      <th>passengers</th>\n",
       "      <th>Passengers_Seat_Ratio</th>\n",
       "      <th>mkt_op_carrier_difference</th>\n",
       "      <th>aircraft_group</th>\n",
       "      <th>Taxi_Holdup</th>\n",
       "      <th>class</th>\n",
       "    </tr>\n",
       "  </thead>\n",
       "  <tbody>\n",
       "    <tr>\n",
       "      <th>0</th>\n",
       "      <td>2019-01-20</td>\n",
       "      <td>DL</td>\n",
       "      <td>Atlanta, GA</td>\n",
       "      <td>Pittsburgh, PA</td>\n",
       "      <td>855</td>\n",
       "      <td>1032</td>\n",
       "      <td>-7.0</td>\n",
       "      <td>97.0</td>\n",
       "      <td>526.0</td>\n",
       "      <td>DL1039714122</td>\n",
       "      <td>34633.0</td>\n",
       "      <td>25214.0</td>\n",
       "      <td>0.728034</td>\n",
       "      <td>True</td>\n",
       "      <td>6</td>\n",
       "      <td>9.0</td>\n",
       "      <td>F</td>\n",
       "    </tr>\n",
       "  </tbody>\n",
       "</table>\n",
       "</div>"
      ],
      "text/plain": [
       "      fl_date mkt_unique_carrier origin_city_name  dest_city_name  \\\n",
       "0  2019-01-20                 DL      Atlanta, GA  Pittsburgh, PA   \n",
       "\n",
       "   crs_dep_time  crs_arr_time  arr_delay  crs_elapsed_time  distance  \\\n",
       "0           855          1032       -7.0              97.0     526.0   \n",
       "\n",
       "  Carrier_Origin_Dest_Airport    seats  passengers  Passengers_Seat_Ratio  \\\n",
       "0                DL1039714122  34633.0     25214.0               0.728034   \n",
       "\n",
       "   mkt_op_carrier_difference aircraft_group  Taxi_Holdup class  \n",
       "0                       True              6          9.0     F  "
      ]
     },
     "execution_count": 97,
     "metadata": {},
     "output_type": "execute_result"
    }
   ],
   "source": [
    "x.head(1)"
   ]
  },
  {
   "cell_type": "code",
   "execution_count": 98,
   "id": "267c906c-ecc1-47c2-995b-f602728ac5c1",
   "metadata": {},
   "outputs": [
    {
     "data": {
      "text/html": [
       "<div>\n",
       "<style scoped>\n",
       "    .dataframe tbody tr th:only-of-type {\n",
       "        vertical-align: middle;\n",
       "    }\n",
       "\n",
       "    .dataframe tbody tr th {\n",
       "        vertical-align: top;\n",
       "    }\n",
       "\n",
       "    .dataframe thead th {\n",
       "        text-align: right;\n",
       "    }\n",
       "</style>\n",
       "<table border=\"1\" class=\"dataframe\">\n",
       "  <thead>\n",
       "    <tr style=\"text-align: right;\">\n",
       "      <th></th>\n",
       "      <th>fl_date</th>\n",
       "      <th>mkt_unique_carrier</th>\n",
       "      <th>origin_city_name</th>\n",
       "      <th>dest_city_name</th>\n",
       "      <th>crs_dep_time</th>\n",
       "      <th>crs_arr_time</th>\n",
       "      <th>crs_elapsed_time</th>\n",
       "      <th>distance</th>\n",
       "      <th>arr_delay</th>\n",
       "      <th>Type_Mode</th>\n",
       "    </tr>\n",
       "  </thead>\n",
       "  <tbody>\n",
       "    <tr>\n",
       "      <th>1</th>\n",
       "      <td>2019-01-01</td>\n",
       "      <td>AA</td>\n",
       "      <td>Myrtle Beach, SC</td>\n",
       "      <td>Charlotte, NC</td>\n",
       "      <td>2157</td>\n",
       "      <td>2311</td>\n",
       "      <td>74.0</td>\n",
       "      <td>157.0</td>\n",
       "      <td>-3.0</td>\n",
       "      <td>Fog</td>\n",
       "    </tr>\n",
       "  </tbody>\n",
       "</table>\n",
       "</div>"
      ],
      "text/plain": [
       "      fl_date mkt_unique_carrier  origin_city_name dest_city_name  \\\n",
       "1  2019-01-01                 AA  Myrtle Beach, SC  Charlotte, NC   \n",
       "\n",
       "   crs_dep_time  crs_arr_time  crs_elapsed_time  distance  arr_delay Type_Mode  \n",
       "1          2157          2311              74.0     157.0       -3.0       Fog  "
      ]
     },
     "execution_count": 98,
     "metadata": {},
     "output_type": "execute_result"
    }
   ],
   "source": [
    "w.head(1)"
   ]
  },
  {
   "cell_type": "code",
   "execution_count": 99,
   "id": "b365d57e-9bef-46a4-a354-2494b9ea2d9c",
   "metadata": {},
   "outputs": [],
   "source": [
    "combined = x.merge(w, how='left')"
   ]
  },
  {
   "cell_type": "code",
   "execution_count": 100,
   "id": "f38a550b-051b-4d80-be84-e068acafbac8",
   "metadata": {},
   "outputs": [
    {
     "data": {
      "text/plain": [
       "(617649, 18)"
      ]
     },
     "execution_count": 100,
     "metadata": {},
     "output_type": "execute_result"
    }
   ],
   "source": [
    "combined.shape"
   ]
  },
  {
   "cell_type": "code",
   "execution_count": 101,
   "id": "ce4fce12-4b83-4417-befc-b50f6a05264e",
   "metadata": {},
   "outputs": [],
   "source": [
    "combined = combined.dropna()"
   ]
  },
  {
   "cell_type": "code",
   "execution_count": 104,
   "id": "c804f62a-4bee-463c-84d8-876728da7823",
   "metadata": {},
   "outputs": [
    {
     "data": {
      "text/plain": [
       "(245474, 18)"
      ]
     },
     "execution_count": 104,
     "metadata": {},
     "output_type": "execute_result"
    }
   ],
   "source": [
    "combined.shape"
   ]
  },
  {
   "cell_type": "code",
   "execution_count": 102,
   "id": "4ae1ed26-e5ec-4ab8-acc1-09b1edfcabf4",
   "metadata": {},
   "outputs": [],
   "source": [
    "combined.to_csv('combined_df.csv')"
   ]
  },
  {
   "cell_type": "code",
   "execution_count": 103,
   "id": "308b79d2-71f2-43e7-bcbd-358c8c3f458f",
   "metadata": {},
   "outputs": [
    {
     "data": {
      "text/plain": [
       "Rain             120291\n",
       "Fog               59613\n",
       "Snow              59539\n",
       "Cold               5219\n",
       "Hail                437\n",
       "Storm               353\n",
       "Precipitation        22\n",
       "Name: Type_Mode, dtype: int64"
      ]
     },
     "execution_count": 103,
     "metadata": {},
     "output_type": "execute_result"
    }
   ],
   "source": [
    "combined.Type_Mode.value_counts()"
   ]
  },
  {
   "cell_type": "code",
   "execution_count": null,
   "id": "def3c997-4fd6-4f6b-8d44-ce6c4fad8381",
   "metadata": {},
   "outputs": [],
   "source": []
  }
 ],
 "metadata": {
  "kernelspec": {
   "display_name": "Python 3 (ipykernel)",
   "language": "python",
   "name": "python3"
  },
  "language_info": {
   "codemirror_mode": {
    "name": "ipython",
    "version": 3
   },
   "file_extension": ".py",
   "mimetype": "text/x-python",
   "name": "python",
   "nbconvert_exporter": "python",
   "pygments_lexer": "ipython3",
   "version": "3.8.12"
  }
 },
 "nbformat": 4,
 "nbformat_minor": 5
}
