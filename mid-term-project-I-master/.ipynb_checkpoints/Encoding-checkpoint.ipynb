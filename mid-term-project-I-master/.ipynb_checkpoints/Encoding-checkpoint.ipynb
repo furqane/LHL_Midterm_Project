{
 "cells": [
  {
   "cell_type": "markdown",
   "id": "69f5fd78-027d-4f37-9b96-93ec104ac0ea",
   "metadata": {},
   "source": [
    "### Encoding PIPELINE"
   ]
  },
  {
   "cell_type": "code",
   "execution_count": 1,
   "id": "9b97c183-367d-43e1-ad85-0b11c7b89b41",
   "metadata": {},
   "outputs": [],
   "source": [
    "import pandas as pd\n",
    "import numpy as np\n",
    "import matplotlib.pyplot as plt"
   ]
  },
  {
   "cell_type": "code",
   "execution_count": 2,
   "id": "443a7f36-ee2d-461a-a227-85525057776e",
   "metadata": {},
   "outputs": [],
   "source": [
    "pd.set_option('display.max_columns', None)"
   ]
  },
  {
   "cell_type": "code",
   "execution_count": 3,
   "id": "e921942a-ab3c-468d-947d-f3d21873d657",
   "metadata": {},
   "outputs": [],
   "source": [
    "df = pd.read_csv('combined_df.csv')"
   ]
  },
  {
   "cell_type": "code",
   "execution_count": 4,
   "id": "8f7702fb-3b1b-4266-a6aa-028577e401fd",
   "metadata": {},
   "outputs": [],
   "source": [
    "df = df.drop(['Unnamed: 0'],axis=1)"
   ]
  },
  {
   "cell_type": "markdown",
   "id": "07499def-0e6c-464a-8d4a-dc0f9d4bc68a",
   "metadata": {},
   "source": [
    "### Adding Part of Day"
   ]
  },
  {
   "cell_type": "code",
   "execution_count": 5,
   "id": "07eab2ee-14ab-43e8-b7ab-616f301f3847",
   "metadata": {},
   "outputs": [],
   "source": [
    "# function for seperating into times of day\n",
    "\n",
    "def daypart(x):\n",
    "    if x >= 200 and x <= 559:\n",
    "        return 'dawn'\n",
    "    elif x >= 600 and x <= 959:\n",
    "        return 'morning'\n",
    "    elif x >=1000 and x <= 1359:\n",
    "        return 'noon'\n",
    "    elif x >= 1400 and x <= 1759:\n",
    "        return 'noon'\n",
    "    elif x >= 1800 and x <= 2259:\n",
    "        return 'evening'\n",
    "    else: return 'midnight'\n"
   ]
  },
  {
   "cell_type": "code",
   "execution_count": 6,
   "id": "d1884eea-5dd2-4b0e-86b9-9ad230a227d9",
   "metadata": {},
   "outputs": [],
   "source": [
    "df['dep_day_part']=df.crs_dep_time.apply(daypart)\n",
    "df['arr_day_part']=df.crs_arr_time.apply(daypart)"
   ]
  },
  {
   "cell_type": "markdown",
   "id": "c803bb55-a772-4691-9631-43d1102fe52e",
   "metadata": {},
   "source": [
    "### Adding Day of Week"
   ]
  },
  {
   "cell_type": "code",
   "execution_count": 7,
   "id": "62e06e91-df06-4cf0-a95c-03daee0b0fbb",
   "metadata": {},
   "outputs": [],
   "source": [
    "df.fl_date = pd.to_datetime(df.fl_date)"
   ]
  },
  {
   "cell_type": "code",
   "execution_count": 8,
   "id": "b1b1827e-f83e-4eda-adad-fc0b5670f6dc",
   "metadata": {},
   "outputs": [],
   "source": [
    "df['day_of_week'] = df.fl_date.dt.day_name()"
   ]
  },
  {
   "cell_type": "code",
   "execution_count": 9,
   "id": "fc1765a6-5f8c-453f-b26b-56e86ec37059",
   "metadata": {},
   "outputs": [],
   "source": [
    "#df.isna().sum()"
   ]
  },
  {
   "cell_type": "code",
   "execution_count": 10,
   "id": "1325a937-5931-422f-9ba6-840340043e06",
   "metadata": {},
   "outputs": [],
   "source": [
    "df = df.drop(['crs_dep_time','crs_arr_time',\n",
    "         'Carrier_Origin_Dest_Airport','seats','passengers',\n",
    "         'class'], axis=1)"
   ]
  },
  {
   "cell_type": "markdown",
   "id": "ded6aada-9fc9-4f2b-b8bb-fc826ac788b8",
   "metadata": {},
   "source": [
    "* Split the data into train/test"
   ]
  },
  {
   "cell_type": "code",
   "execution_count": 11,
   "id": "b973dc80-a4e2-490d-b8f7-8d8fd1cc01a3",
   "metadata": {},
   "outputs": [],
   "source": [
    "from sklearn.model_selection import train_test_split\n",
    "\n",
    "X = df.loc[:, df.columns != 'arr_delay']\n",
    "y = df['arr_delay']\n",
    "\n",
    "X_train, X_test, y_train, y_test = train_test_split(X, y, test_size=0.3, random_state = 25)"
   ]
  },
  {
   "cell_type": "markdown",
   "id": "5e1a3eee-ce78-40fc-a876-57a329aa455e",
   "metadata": {},
   "source": [
    "## DROP 1 DUMMY COLUMN EACH"
   ]
  },
  {
   "cell_type": "markdown",
   "id": "3f5f71b6-0254-460f-b817-9313bb4e1ab3",
   "metadata": {},
   "source": [
    "#### Encoding Weather(Type)"
   ]
  },
  {
   "cell_type": "code",
   "execution_count": 12,
   "id": "cae73fbf-d72a-432b-b818-4159d3203d79",
   "metadata": {},
   "outputs": [],
   "source": [
    "X_train = pd.get_dummies(X_train, prefix=['Type'], columns=['Type_Mode'])\n",
    "X_test = pd.get_dummies(X_test, prefix=['Type'], columns=['Type_Mode'])"
   ]
  },
  {
   "cell_type": "code",
   "execution_count": 13,
   "id": "019d0549-2fa6-409b-9628-a8b6bad1c67b",
   "metadata": {},
   "outputs": [],
   "source": [
    "X_train = X_train.drop(['Type_Storm'],axis=1)\n",
    "X_test = X_test.drop(['Type_Storm'],axis=1)"
   ]
  },
  {
   "cell_type": "code",
   "execution_count": 14,
   "id": "cda5b34a-6415-46c6-b64a-44068e343c69",
   "metadata": {},
   "outputs": [],
   "source": [
    "# list for filtering:\n",
    "Type_list = ['Type_Cold', 'Type_Fog','Type_Hail','Type_Precipitation','Type_Rain', 'Type_Snow']"
   ]
  },
  {
   "cell_type": "markdown",
   "id": "c3050c9d-4c3a-49d2-8d63-eed2727b7102",
   "metadata": {},
   "source": [
    "### Encode Day of Week"
   ]
  },
  {
   "cell_type": "code",
   "execution_count": 15,
   "id": "b6b74cb1-cb2f-4f0b-b9e1-1cdfcd7438eb",
   "metadata": {},
   "outputs": [],
   "source": [
    "# one hot encode\n",
    "X_train = pd.get_dummies(X_train, prefix=['dow'], columns=['day_of_week'])\n",
    "X_test = pd.get_dummies(X_test, prefix=['dow'], columns=['day_of_week'])"
   ]
  },
  {
   "cell_type": "code",
   "execution_count": 16,
   "id": "7aa2ee06-2e2b-4baa-a81a-766b177a0174",
   "metadata": {},
   "outputs": [],
   "source": [
    "X_train = X_train.drop(['dow_Wednesday'],axis=1)\n",
    "X_test = X_test.drop(['dow_Wednesday'],axis=1)"
   ]
  },
  {
   "cell_type": "code",
   "execution_count": 17,
   "id": "40d51c06-760a-4db2-aa06-6495f04a8974",
   "metadata": {},
   "outputs": [],
   "source": [
    "dow_list = ['dow_Friday','dow_Monday','dow_Saturday','dow_Sunday','dow_Thrusday','dow_Tuesday']"
   ]
  },
  {
   "cell_type": "markdown",
   "id": "d1546f3f-cc39-42e5-86e5-0a1d7dca590a",
   "metadata": {},
   "source": [
    "### Encode Time of Day (Day_Part)"
   ]
  },
  {
   "cell_type": "code",
   "execution_count": 18,
   "id": "2232fe39-94e8-4bcd-b84c-599f3664a209",
   "metadata": {},
   "outputs": [],
   "source": [
    "X_train = pd.get_dummies(X_train, prefix=['arr'], columns=['arr_day_part'])\n",
    "X_test = pd.get_dummies(X_test, prefix=['arr'], columns=['arr_day_part'])"
   ]
  },
  {
   "cell_type": "code",
   "execution_count": 19,
   "id": "05b20db5-a775-4688-8fcc-f948f1beddc0",
   "metadata": {},
   "outputs": [],
   "source": [
    "X_train = pd.get_dummies(X_train, prefix=['dep'], columns=['dep_day_part'])\n",
    "X_test = pd.get_dummies(X_test, prefix=['dep'], columns=['dep_day_part'])"
   ]
  },
  {
   "cell_type": "code",
   "execution_count": 20,
   "id": "34cb1542-bda9-4266-97ae-ea029bf75624",
   "metadata": {},
   "outputs": [],
   "source": [
    "X_train = X_train.drop(['arr_midnight'],axis=1)\n",
    "X_test = X_test.drop(['arr_midnight'],axis=1)"
   ]
  },
  {
   "cell_type": "code",
   "execution_count": 21,
   "id": "a4dfcddd-4817-4e19-a411-db534efba328",
   "metadata": {},
   "outputs": [],
   "source": [
    "X_train = X_train.drop(['dep_midnight'],axis=1)\n",
    "X_test = X_test.drop(['dep_midnight'],axis=1)"
   ]
  },
  {
   "cell_type": "code",
   "execution_count": 22,
   "id": "32bb0f0c-381d-414b-a054-e9b9b6db4801",
   "metadata": {},
   "outputs": [],
   "source": [
    "arr_day_list= ['arr_dawn','arr_evening','arr_morning','arr_noon']\n",
    "dep_day_list= ['dep_dawn','dep_evening','dep_morning','dep_noon']"
   ]
  },
  {
   "cell_type": "markdown",
   "id": "ee424449-774f-42b9-8fea-e4d9e220c7ec",
   "metadata": {},
   "source": [
    "### Encode Aircraft Group"
   ]
  },
  {
   "cell_type": "code",
   "execution_count": 23,
   "id": "e4e268d0-560e-4b5a-ba8b-043d23f1d213",
   "metadata": {},
   "outputs": [],
   "source": [
    "X_train = pd.get_dummies(X_train, prefix=['aircraft'], columns=['aircraft_group'])\n",
    "X_test = pd.get_dummies(X_test, prefix=['aircraft'], columns=['aircraft_group'])"
   ]
  },
  {
   "cell_type": "code",
   "execution_count": 24,
   "id": "4ad7bab0-60be-42b5-918b-e7932d06d882",
   "metadata": {},
   "outputs": [],
   "source": [
    "X_train = X_train.drop([\"aircraft_['4' '6']\"],axis=1)\n",
    "X_test = X_test.drop([\"aircraft_['4' '6']\"],axis=1)"
   ]
  },
  {
   "cell_type": "code",
   "execution_count": 25,
   "id": "9d31ae41-fe56-403e-80eb-3e51f74a6142",
   "metadata": {},
   "outputs": [],
   "source": [
    "aircraft_list=['aircraft_4','aircraft_6']"
   ]
  },
  {
   "cell_type": "markdown",
   "id": "a3054a80-30d9-4d4a-a11b-43bfde8351bf",
   "metadata": {},
   "source": [
    "### Encode Market Unique Carrier"
   ]
  },
  {
   "cell_type": "code",
   "execution_count": 26,
   "id": "8af4af64-c7be-433e-91d5-a30d9373f3eb",
   "metadata": {},
   "outputs": [],
   "source": [
    "X_train = pd.get_dummies(X_train, prefix=['muc'], columns=['mkt_unique_carrier'], drop_first=True)"
   ]
  },
  {
   "cell_type": "code",
   "execution_count": 27,
   "id": "0d0a5d21-6bcf-4f36-80fa-281c66cd8ee0",
   "metadata": {},
   "outputs": [],
   "source": [
    "X_test = pd.get_dummies(X_test, prefix=['muc'], columns=['mkt_unique_carrier'], drop_first=True)"
   ]
  },
  {
   "cell_type": "code",
   "execution_count": 48,
   "id": "393f3c5b-387d-4e07-adcd-164e510d9b3e",
   "metadata": {},
   "outputs": [],
   "source": [
    "mrk_unique_list=['muc_AS','muc_B6','muc_DL','muc_F9','muc_G4','muc_HA','muc_NK','muc_UA','muc_WN']"
   ]
  },
  {
   "cell_type": "markdown",
   "id": "fa463e5c-d15a-4612-88c7-581cc7ca478f",
   "metadata": {},
   "source": [
    "### Encode Market_Op_Carrier_Difference"
   ]
  },
  {
   "cell_type": "code",
   "execution_count": 28,
   "id": "271fad42-a204-4dbc-9ff7-d2dbe756da4f",
   "metadata": {},
   "outputs": [],
   "source": [
    "X_train.mkt_op_carrier_difference = X_train.mkt_op_carrier_difference.replace([True,False],[1,0])\n",
    "X_test.mkt_op_carrier_difference = X_test.mkt_op_carrier_difference.replace([True,False],[1,0])"
   ]
  },
  {
   "cell_type": "markdown",
   "id": "59ecc561-6538-4656-b275-f061957a26b1",
   "metadata": {},
   "source": [
    "### SCALE NUMERICAL FEATURES"
   ]
  },
  {
   "cell_type": "markdown",
   "id": "9f632ea2-b245-4b46-8e98-98b32f851a49",
   "metadata": {},
   "source": [
    "#### Passengers_Seat_Ratio, Distance, Taxi_Holdup, crs_elapsed_time"
   ]
  },
  {
   "cell_type": "code",
   "execution_count": 29,
   "id": "56e9b480-b04f-4561-9d48-c754d7059034",
   "metadata": {},
   "outputs": [],
   "source": [
    "from sklearn.preprocessing import StandardScaler"
   ]
  },
  {
   "cell_type": "code",
   "execution_count": 30,
   "id": "f6f4b8ab-7968-4f01-838a-8b181501738a",
   "metadata": {},
   "outputs": [],
   "source": [
    "scaler = StandardScaler()\n",
    "X_train.reset_index(drop=True, inplace=True)\n",
    "X_train_scaled = scaler.fit_transform(X_train[['Passengers_Seat_Ratio','distance','Taxi_Holdup','crs_elapsed_time']])\n",
    "s_df = pd.DataFrame(X_train_scaled)\n",
    "X_train = X_train.drop(['Passengers_Seat_Ratio','distance','Taxi_Holdup','crs_elapsed_time'], axis=1)\n",
    "s_df = s_df.rename(columns={0:'Passengers_Seat_Ratio',\n",
    "                                  1:'distance',\n",
    "                                  2:'Taxi_Holdup',\n",
    "                                  3:'crs_elapsed_time'})\n",
    "X_train = pd.concat([X_train,s_df],axis=1)"
   ]
  },
  {
   "cell_type": "code",
   "execution_count": 31,
   "id": "9a15dc76-3fab-4dea-a2bc-9e0031f4f134",
   "metadata": {},
   "outputs": [],
   "source": [
    "X_test.reset_index(drop=True, inplace= True)\n",
    "X_test_scaled = scaler.transform(X_test[['Passengers_Seat_Ratio','distance','Taxi_Holdup','crs_elapsed_time']])\n",
    "ss_df = pd.DataFrame(X_test_scaled)\n",
    "X_test = X_test.drop(['Passengers_Seat_Ratio','distance','Taxi_Holdup','crs_elapsed_time'], axis=1)\n",
    "ss_df = ss_df.rename(columns={0:'Passengers_Seat_Ratio',\n",
    "                                1:'distance',\n",
    "                                2:'Taxi_Holdup',\n",
    "                                3:'crs_elapsed_time'})\n",
    "X_test = pd.concat([X_test, ss_df], axis=1)"
   ]
  },
  {
   "cell_type": "code",
   "execution_count": 32,
   "id": "f7a4767c-32c9-4332-8373-ca85ed33783a",
   "metadata": {},
   "outputs": [],
   "source": [
    "# print(X_train.isna().sum(),X_test.isna().sum())"
   ]
  },
  {
   "cell_type": "markdown",
   "id": "b1cc41e5-ff37-45d9-9786-359a25cd927f",
   "metadata": {},
   "source": [
    "# I TRIED TO ENCODE THIS IN TWO DIFFERENT WAYS, CAN USE WHICH EVER WORKS BETTER"
   ]
  },
  {
   "cell_type": "code",
   "execution_count": 33,
   "id": "f085d4b2-2854-4777-bd0d-5a4f1a58dc38",
   "metadata": {},
   "outputs": [],
   "source": [
    "from sklearn.feature_extraction import FeatureHasher\n",
    "from sklearn.preprocessing import LabelEncoder"
   ]
  },
  {
   "cell_type": "code",
   "execution_count": 34,
   "id": "5a879698-c41b-4bc3-9a70-23942e2f9d68",
   "metadata": {},
   "outputs": [],
   "source": [
    "LE = LabelEncoder()\n",
    "X_train['origin_label'] = LE.fit_transform(X_train.origin_city_name)\n",
    "X_test['origin_label'] = LE.transform(X_test.origin_city_name)\n",
    "\n",
    "le = LabelEncoder()\n",
    "X_train['dest_label'] = le.fit_transform(X_train.dest_city_name)\n",
    "X_test['dest_label'] = le.transform(X_test.dest_city_name)"
   ]
  },
  {
   "cell_type": "markdown",
   "id": "47d72cbc-363b-4cfe-9013-c7861f2aec3a",
   "metadata": {},
   "source": [
    "#### Encoding Origin_City_Name"
   ]
  },
  {
   "cell_type": "code",
   "execution_count": 35,
   "id": "fe0ffd73-297a-4434-8cd7-a10d811dae09",
   "metadata": {},
   "outputs": [],
   "source": [
    "fh = FeatureHasher (n_features = 10, input_type='string')\n",
    "hashed_features = fh.fit_transform(X_train['origin_city_name'])\n",
    "hashed_features = hashed_features.toarray()\n",
    "hf = pd.DataFrame(hashed_features)\n",
    "X_train = pd.concat([X_train, hf], axis=1)\n",
    "X_train = X_train.rename(columns={0:'origin_0',\n",
    "                                  1:'origin_1',\n",
    "                                  2:'origin_2',\n",
    "                                  3:'origin_3',\n",
    "                                  4:'origin_4',\n",
    "                                  5:'origin_5',\n",
    "                                  6:'origin_6',\n",
    "                                  7:'origin_7',\n",
    "                                  8:'origin_8',\n",
    "                                  9:'origin_9',\n",
    "                                  10:'origin_10',})\n",
    "\n",
    "hashed_features_test = fh.transform(X_test['origin_city_name'])\n",
    "hashed_features_test = hashed_features_test.toarray()\n",
    "hff = pd.DataFrame(hashed_features_test)\n",
    "X_test = pd.concat([X_test, hff], axis=1)\n",
    "X_test = X_test.rename(columns={0:'origin_0',\n",
    "                                  1:'origin_1',\n",
    "                                  2:'origin_2',\n",
    "                                  3:'origin_3',\n",
    "                                  4:'origin_4',\n",
    "                                  5:'origin_5',\n",
    "                                  6:'origin_6',\n",
    "                                  7:'origin_7',\n",
    "                                  8:'origin_8',\n",
    "                                  9:'origin_9',\n",
    "                                  10:'origin_10',})"
   ]
  },
  {
   "cell_type": "code",
   "execution_count": 50,
   "id": "02d33393-8db8-4ba7-a68b-841171d5ac4a",
   "metadata": {},
   "outputs": [],
   "source": [
    "origin_list = ['origin_0','origin_1','origin_2','origin_3','origin_4','origin_5','origin_6','origin_7','origin_8','origin_9']"
   ]
  },
  {
   "cell_type": "markdown",
   "id": "20191b6e-e360-4b79-a623-d98cbb1e3f69",
   "metadata": {},
   "source": [
    "### Encoding dest_city_name"
   ]
  },
  {
   "cell_type": "code",
   "execution_count": 36,
   "id": "fc834e22-2c7f-41ec-9b9c-d54c78018850",
   "metadata": {},
   "outputs": [],
   "source": [
    "fh2 = FeatureHasher (n_features = 10, input_type='string')\n",
    "hashed_features2 = fh2.fit_transform(X_train['dest_city_name'])\n",
    "hashed_features2 = hashed_features2.toarray()\n",
    "hf2 = pd.DataFrame(hashed_features2)\n",
    "X_train = pd.concat([X_train, hf2], axis=1)\n",
    "X_train = X_train.rename(columns={0:'dest_0',\n",
    "                                  1:'dest_1',\n",
    "                                  2:'dest_2',\n",
    "                                  3:'dest_3',\n",
    "                                  4:'dest_4',\n",
    "                                  5:'dest_5',\n",
    "                                  6:'dest_6',\n",
    "                                  7:'dest_7',\n",
    "                                  8:'dest_8',\n",
    "                                  9:'dest_9',\n",
    "                                  10:'dest_10',})\n",
    "\n",
    "hashed_features_test2 = fh2.transform(X_test['dest_city_name'])\n",
    "hashed_features_test2 = hashed_features_test2.toarray()\n",
    "hff2 = pd.DataFrame(hashed_features_test2)\n",
    "X_test = pd.concat([X_test, hff2], axis=1)\n",
    "X_test = X_test.rename(columns={0:'dest_0',\n",
    "                                  1:'dest_1',\n",
    "                                  2:'dest_2',\n",
    "                                  3:'dest_3',\n",
    "                                  4:'dest_4',\n",
    "                                  5:'dest_5',\n",
    "                                  6:'dest_6',\n",
    "                                  7:'dest_7',\n",
    "                                  8:'dest_8',\n",
    "                                  9:'dest_9',\n",
    "                                  10:'dest_10'})"
   ]
  },
  {
   "cell_type": "code",
   "execution_count": null,
   "id": "f3541577-c02a-4c77-b86d-9cb81e8f9241",
   "metadata": {},
   "outputs": [],
   "source": [
    "dest_list = ['dest_0','dest_1','dest_2','dest_3','dest_4','dest_5','dest_6','dest_7','dest_8','dest_9']"
   ]
  },
  {
   "cell_type": "code",
   "execution_count": 37,
   "id": "88e4badd-163f-4932-97d8-224be911fc9a",
   "metadata": {},
   "outputs": [],
   "source": [
    "X_train = X_train.drop(['fl_date','origin_city_name','dest_city_name'],axis=1)\n",
    "X_test = X_test.drop(['fl_date','origin_city_name','dest_city_name'],axis=1)"
   ]
  },
  {
   "cell_type": "markdown",
   "id": "2670350b-5c16-4b23-9038-4fec6c22193d",
   "metadata": {},
   "source": [
    "### Standardize Y set"
   ]
  },
  {
   "cell_type": "code",
   "execution_count": 40,
   "id": "4569d67f-b921-400c-ab20-470d1e5a524b",
   "metadata": {},
   "outputs": [],
   "source": [
    "y_train.reset_index(drop=True, inplace=True)\n",
    "y_test.reset_index(drop=True, inplace=True)"
   ]
  },
  {
   "cell_type": "code",
   "execution_count": 41,
   "id": "47a740e7-5d8b-4d68-a86c-6b6e6c3b083e",
   "metadata": {},
   "outputs": [],
   "source": [
    "from sklearn.preprocessing import StandardScaler"
   ]
  },
  {
   "cell_type": "code",
   "execution_count": 42,
   "id": "da5415c1-eb52-4012-9f00-29e0f5b18919",
   "metadata": {},
   "outputs": [],
   "source": [
    "scale = StandardScaler()\n",
    "y_train_scaled = scale.fit_transform(np.array(y_train).reshape(-1,1))\n",
    "y_train_df = pd.DataFrame(y_train_scaled)\n",
    "y_train = y_train_df\n",
    "\n",
    "y_test_scaled = scale.transform(np.array(y_test).reshape(-1,1))\n",
    "y_test_df = pd.DataFrame(y_test_scaled)\n",
    "y_test = y_test_df"
   ]
  },
  {
   "cell_type": "markdown",
   "id": "ee97c799-f0ad-4c91-8d46-33e9116b128b",
   "metadata": {},
   "source": [
    "### TO CSV"
   ]
  },
  {
   "cell_type": "code",
   "execution_count": 46,
   "id": "58615b95-d2f4-42e0-a9d7-a62798d1e147",
   "metadata": {},
   "outputs": [],
   "source": [
    "X_train.to_csv('X_train.csv')\n",
    "X_test.to_csv('X_test.csv')\n",
    "y_train.to_csv('y_train.csv')\n",
    "y_test.to_csv('y_test.csv')"
   ]
  },
  {
   "cell_type": "code",
   "execution_count": null,
   "id": "55af76ab-0904-4a8d-a7d1-e074b385d40c",
   "metadata": {},
   "outputs": [],
   "source": []
  }
 ],
 "metadata": {
  "kernelspec": {
   "display_name": "Python 3 (ipykernel)",
   "language": "python",
   "name": "python3"
  },
  "language_info": {
   "codemirror_mode": {
    "name": "ipython",
    "version": 3
   },
   "file_extension": ".py",
   "mimetype": "text/x-python",
   "name": "python",
   "nbconvert_exporter": "python",
   "pygments_lexer": "ipython3",
   "version": "3.8.12"
  }
 },
 "nbformat": 4,
 "nbformat_minor": 5
}
