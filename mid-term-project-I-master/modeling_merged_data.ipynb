{
 "cells": [
  {
   "cell_type": "markdown",
   "id": "39db4148-2caf-4c65-b309-9884dfa417c5",
   "metadata": {
    "tags": []
   },
   "source": [
    "# Training Models on Entire Merged Data"
   ]
  },
  {
   "cell_type": "code",
   "execution_count": 1,
   "id": "f73d020f-738a-4429-b925-1a1a39f80f3a",
   "metadata": {
    "tags": []
   },
   "outputs": [],
   "source": [
    "import pandas as pd\n",
    "\n",
    "import numpy as np\n",
    "\n",
    "import os\n",
    "\n",
    "from sklearn.model_selection import train_test_split # Import train_test_split function\n",
    "\n",
    "from sklearn.ensemble import RandomForestClassifier,RandomForestRegressor # Import Random Forest Model\n",
    "\n",
    "from sklearn.preprocessing import LabelEncoder\n",
    "\n",
    "\n",
    "from sklearn.preprocessing import OrdinalEncoder \n",
    "\n",
    "import pickle\n",
    "\n",
    "from sklearn.metrics import r2_score,mean_absolute_error,mean_squared_error\n",
    "\n",
    "from sklearn import svm"
   ]
  },
  {
   "cell_type": "code",
   "execution_count": 2,
   "id": "ef5b8039-6ab4-4381-9149-a4dc9f173cb4",
   "metadata": {},
   "outputs": [
    {
     "name": "stderr",
     "output_type": "stream",
     "text": [
      "/opt/anaconda3/lib/python3.8/site-packages/decorator.py:232: DtypeWarning: Columns (0,1,2,4,7,10,11,12,13,14,15) have mixed types.Specify dtype option on import or set low_memory=False.\n",
      "  return caller(func, *(extras + args), **kw)\n"
     ]
    },
    {
     "name": "stdout",
     "output_type": "stream",
     "text": [
      "\u0007CPU times: user 1min 5s, sys: 58.6 s, total: 2min 4s\n",
      "Wall time: 2min 37s\n"
     ]
    },
    {
     "data": {
      "text/plain": [
       "0"
      ]
     },
     "execution_count": 2,
     "metadata": {},
     "output_type": "execute_result"
    }
   ],
   "source": [
    "%%time\n",
    "df_all = pd.read_csv('merged.csv')\n",
    "os.system(\"printf '\\a'\")"
   ]
  },
  {
   "cell_type": "code",
   "execution_count": 3,
   "id": "aaee741c-f515-4403-9d38-f68dad7b3a5f",
   "metadata": {
    "tags": []
   },
   "outputs": [
    {
     "data": {
      "text/html": [
       "<div>\n",
       "<style scoped>\n",
       "    .dataframe tbody tr th:only-of-type {\n",
       "        vertical-align: middle;\n",
       "    }\n",
       "\n",
       "    .dataframe tbody tr th {\n",
       "        vertical-align: top;\n",
       "    }\n",
       "\n",
       "    .dataframe thead th {\n",
       "        text-align: right;\n",
       "    }\n",
       "</style>\n",
       "<table border=\"1\" class=\"dataframe\">\n",
       "  <thead>\n",
       "    <tr style=\"text-align: right;\">\n",
       "      <th></th>\n",
       "      <th>percent_pload_pass</th>\n",
       "      <th>percent_capacity</th>\n",
       "      <th>accel_time</th>\n",
       "      <th>route</th>\n",
       "      <th>aircraft_group</th>\n",
       "      <th>fl_date</th>\n",
       "      <th>mkt_carrier</th>\n",
       "      <th>mkt_carrier_fl_num</th>\n",
       "      <th>crs_dep_time</th>\n",
       "      <th>crs_arr_time</th>\n",
       "      <th>crs_elapsed_time</th>\n",
       "      <th>distance_y</th>\n",
       "      <th>arr_delay</th>\n",
       "      <th>crs_route</th>\n",
       "      <th>time_diff_crs_elapsed_route_time</th>\n",
       "      <th>speed</th>\n",
       "    </tr>\n",
       "  </thead>\n",
       "  <tbody>\n",
       "    <tr>\n",
       "      <th>0</th>\n",
       "      <td>0.676118</td>\n",
       "      <td>0.805369</td>\n",
       "      <td>27</td>\n",
       "      <td>DSM-MSP</td>\n",
       "      <td>6</td>\n",
       "      <td>2018-01-01</td>\n",
       "      <td>DL</td>\n",
       "      <td>3405</td>\n",
       "      <td>13:20:00</td>\n",
       "      <td>14:42:00</td>\n",
       "      <td>82</td>\n",
       "      <td>232</td>\n",
       "      <td>92</td>\n",
       "      <td>82</td>\n",
       "      <td>0</td>\n",
       "      <td>5.52381</td>\n",
       "    </tr>\n",
       "    <tr>\n",
       "      <th>1</th>\n",
       "      <td>0.676118</td>\n",
       "      <td>0.805369</td>\n",
       "      <td>27</td>\n",
       "      <td>DSM-MSP</td>\n",
       "      <td>6</td>\n",
       "      <td>2018-01-01</td>\n",
       "      <td>DL</td>\n",
       "      <td>3756</td>\n",
       "      <td>06:45:00</td>\n",
       "      <td>08:09:00</td>\n",
       "      <td>84</td>\n",
       "      <td>232</td>\n",
       "      <td>244</td>\n",
       "      <td>84</td>\n",
       "      <td>0</td>\n",
       "      <td>5.39535</td>\n",
       "    </tr>\n",
       "  </tbody>\n",
       "</table>\n",
       "</div>"
      ],
      "text/plain": [
       "  percent_pload_pass percent_capacity accel_time    route aircraft_group  \\\n",
       "0           0.676118         0.805369         27  DSM-MSP              6   \n",
       "1           0.676118         0.805369         27  DSM-MSP              6   \n",
       "\n",
       "      fl_date mkt_carrier mkt_carrier_fl_num crs_dep_time crs_arr_time  \\\n",
       "0  2018-01-01          DL               3405     13:20:00     14:42:00   \n",
       "1  2018-01-01          DL               3756     06:45:00     08:09:00   \n",
       "\n",
       "  crs_elapsed_time distance_y arr_delay crs_route  \\\n",
       "0               82        232        92        82   \n",
       "1               84        232       244        84   \n",
       "\n",
       "  time_diff_crs_elapsed_route_time    speed  \n",
       "0                                0  5.52381  \n",
       "1                                0  5.39535  "
      ]
     },
     "execution_count": 3,
     "metadata": {},
     "output_type": "execute_result"
    }
   ],
   "source": [
    "df_all.head(2)"
   ]
  },
  {
   "cell_type": "markdown",
   "id": "5e7c79bb-96a7-478d-91d9-4c2861e2f28e",
   "metadata": {},
   "source": [
    "### Bootstrap Sampling"
   ]
  },
  {
   "cell_type": "code",
   "execution_count": 4,
   "id": "5a2b731c-2e5d-42b6-b0a3-5d941599e705",
   "metadata": {},
   "outputs": [
    {
     "name": "stdout",
     "output_type": "stream",
     "text": [
      "\u0007CPU times: user 4.44 s, sys: 12.7 s, total: 17.2 s\n",
      "Wall time: 23.5 s\n"
     ]
    },
    {
     "data": {
      "text/plain": [
       "0"
      ]
     },
     "execution_count": 4,
     "metadata": {},
     "output_type": "execute_result"
    }
   ],
   "source": [
    "%%time\n",
    "df_btstr = df_all.sample(frac = 0.005, random_state = 1)\n",
    "os.system(\"printf '\\a'\")"
   ]
  },
  {
   "cell_type": "code",
   "execution_count": 5,
   "id": "b9e009a7-6203-4602-9931-0a9ccac4c88d",
   "metadata": {},
   "outputs": [
    {
     "name": "stdout",
     "output_type": "stream",
     "text": [
      "\u0007CPU times: user 1.7 s, sys: 11.2 s, total: 12.9 s\n",
      "Wall time: 21.4 s\n"
     ]
    },
    {
     "data": {
      "text/plain": [
       "0"
      ]
     },
     "execution_count": 5,
     "metadata": {},
     "output_type": "execute_result"
    }
   ],
   "source": [
    "%%time\n",
    "df_btstr = df_btstr[~pd.to_numeric(df_btstr.percent_pload_pass,errors='coerce').isnull()]\n",
    "os.system(\"printf '\\a'\")"
   ]
  },
  {
   "cell_type": "code",
   "execution_count": 6,
   "id": "58e42222-6833-40d4-b903-4e9dbd03ce2b",
   "metadata": {},
   "outputs": [],
   "source": [
    "types = {'percent_pload_pass':'float','percent_capacity':'float','accel_time':'float','route':'string',\n",
    "         'aircraft_group':'float','fl_date':'string','mkt_carrier':'string','mkt_carrier_fl_num':'float',\n",
    "         'crs_dep_time':'string','crs_arr_time':'string','crs_elapsed_time':'float','distance_y':'float',\n",
    "         'arr_delay':'float','crs_route':'float','time_diff_crs_elapsed_route_time':'float','speed':'float'}"
   ]
  },
  {
   "cell_type": "code",
   "execution_count": 7,
   "id": "008a152a-13bf-415c-ad5d-26caadd27090",
   "metadata": {},
   "outputs": [
    {
     "name": "stdout",
     "output_type": "stream",
     "text": [
      "\u0007CPU times: user 1.9 s, sys: 5.83 s, total: 7.73 s\n",
      "Wall time: 12.9 s\n"
     ]
    },
    {
     "data": {
      "text/plain": [
       "0"
      ]
     },
     "execution_count": 7,
     "metadata": {},
     "output_type": "execute_result"
    }
   ],
   "source": [
    "%%time\n",
    "df_btstr = df_btstr.astype(types)\n",
    "os.system(\"printf '\\a'\")"
   ]
  },
  {
   "cell_type": "code",
   "execution_count": 8,
   "id": "17bde16d-26f2-42e6-b17b-cd500e7b8b14",
   "metadata": {},
   "outputs": [
    {
     "data": {
      "text/html": [
       "<div>\n",
       "<style scoped>\n",
       "    .dataframe tbody tr th:only-of-type {\n",
       "        vertical-align: middle;\n",
       "    }\n",
       "\n",
       "    .dataframe tbody tr th {\n",
       "        vertical-align: top;\n",
       "    }\n",
       "\n",
       "    .dataframe thead th {\n",
       "        text-align: right;\n",
       "    }\n",
       "</style>\n",
       "<table border=\"1\" class=\"dataframe\">\n",
       "  <thead>\n",
       "    <tr style=\"text-align: right;\">\n",
       "      <th></th>\n",
       "      <th>percent_pload_pass</th>\n",
       "      <th>percent_capacity</th>\n",
       "      <th>accel_time</th>\n",
       "      <th>route</th>\n",
       "      <th>aircraft_group</th>\n",
       "      <th>fl_date</th>\n",
       "      <th>mkt_carrier</th>\n",
       "      <th>mkt_carrier_fl_num</th>\n",
       "      <th>crs_dep_time</th>\n",
       "      <th>crs_arr_time</th>\n",
       "      <th>crs_elapsed_time</th>\n",
       "      <th>distance_y</th>\n",
       "      <th>arr_delay</th>\n",
       "      <th>crs_route</th>\n",
       "      <th>time_diff_crs_elapsed_route_time</th>\n",
       "      <th>speed</th>\n",
       "    </tr>\n",
       "  </thead>\n",
       "  <tbody>\n",
       "    <tr>\n",
       "      <th>861864</th>\n",
       "      <td>0.299858</td>\n",
       "      <td>0.412709</td>\n",
       "      <td>560.0</td>\n",
       "      <td>EWR-BDL</td>\n",
       "      <td>6.0</td>\n",
       "      <td>2018-01-03</td>\n",
       "      <td>UA</td>\n",
       "      <td>4958.0</td>\n",
       "      <td>08:30:00</td>\n",
       "      <td>09:40:00</td>\n",
       "      <td>70.0</td>\n",
       "      <td>116.0</td>\n",
       "      <td>1.0</td>\n",
       "      <td>70.0</td>\n",
       "      <td>0.0</td>\n",
       "      <td>4.142857</td>\n",
       "    </tr>\n",
       "    <tr>\n",
       "      <th>15766982</th>\n",
       "      <td>0.607021</td>\n",
       "      <td>0.812857</td>\n",
       "      <td>75.0</td>\n",
       "      <td>TPA-BNA</td>\n",
       "      <td>6.0</td>\n",
       "      <td>2018-12-14</td>\n",
       "      <td>WN</td>\n",
       "      <td>2161.0</td>\n",
       "      <td>06:55:00</td>\n",
       "      <td>07:45:00</td>\n",
       "      <td>110.0</td>\n",
       "      <td>612.0</td>\n",
       "      <td>-11.0</td>\n",
       "      <td>50.0</td>\n",
       "      <td>-60.0</td>\n",
       "      <td>7.463415</td>\n",
       "    </tr>\n",
       "    <tr>\n",
       "      <th>30987332</th>\n",
       "      <td>0.593843</td>\n",
       "      <td>0.825990</td>\n",
       "      <td>1328.0</td>\n",
       "      <td>BUR-SEA</td>\n",
       "      <td>6.0</td>\n",
       "      <td>2019-11-19</td>\n",
       "      <td>AS</td>\n",
       "      <td>1021.0</td>\n",
       "      <td>08:00:00</td>\n",
       "      <td>10:47:00</td>\n",
       "      <td>167.0</td>\n",
       "      <td>937.0</td>\n",
       "      <td>-14.0</td>\n",
       "      <td>167.0</td>\n",
       "      <td>0.0</td>\n",
       "      <td>7.045113</td>\n",
       "    </tr>\n",
       "  </tbody>\n",
       "</table>\n",
       "</div>"
      ],
      "text/plain": [
       "          percent_pload_pass  percent_capacity  accel_time    route  \\\n",
       "861864              0.299858          0.412709       560.0  EWR-BDL   \n",
       "15766982            0.607021          0.812857        75.0  TPA-BNA   \n",
       "30987332            0.593843          0.825990      1328.0  BUR-SEA   \n",
       "\n",
       "          aircraft_group     fl_date mkt_carrier  mkt_carrier_fl_num  \\\n",
       "861864               6.0  2018-01-03          UA              4958.0   \n",
       "15766982             6.0  2018-12-14          WN              2161.0   \n",
       "30987332             6.0  2019-11-19          AS              1021.0   \n",
       "\n",
       "         crs_dep_time crs_arr_time  crs_elapsed_time  distance_y  arr_delay  \\\n",
       "861864       08:30:00     09:40:00              70.0       116.0        1.0   \n",
       "15766982     06:55:00     07:45:00             110.0       612.0      -11.0   \n",
       "30987332     08:00:00     10:47:00             167.0       937.0      -14.0   \n",
       "\n",
       "          crs_route  time_diff_crs_elapsed_route_time     speed  \n",
       "861864         70.0                               0.0  4.142857  \n",
       "15766982       50.0                             -60.0  7.463415  \n",
       "30987332      167.0                               0.0  7.045113  "
      ]
     },
     "execution_count": 8,
     "metadata": {},
     "output_type": "execute_result"
    }
   ],
   "source": [
    "df_btstr.head(3)"
   ]
  },
  {
   "cell_type": "code",
   "execution_count": 9,
   "id": "ca238d48-c93e-42bc-a0e0-58e6f9be67c9",
   "metadata": {},
   "outputs": [],
   "source": [
    "def format_time_string(x):\n",
    "    if x[0] == '0':\n",
    "        x = x[1:5]\n",
    "        x = x.replace(':','')\n",
    "        \n",
    "    elif x[0] in '123456789':\n",
    "        x = x[0:5]\n",
    "        x = x.replace(':','')\n",
    "    return x"
   ]
  },
  {
   "cell_type": "code",
   "execution_count": 10,
   "id": "1468b03d-8768-493b-a36c-e62c9ec05d82",
   "metadata": {},
   "outputs": [
    {
     "data": {
      "text/html": [
       "<div>\n",
       "<style scoped>\n",
       "    .dataframe tbody tr th:only-of-type {\n",
       "        vertical-align: middle;\n",
       "    }\n",
       "\n",
       "    .dataframe tbody tr th {\n",
       "        vertical-align: top;\n",
       "    }\n",
       "\n",
       "    .dataframe thead th {\n",
       "        text-align: right;\n",
       "    }\n",
       "</style>\n",
       "<table border=\"1\" class=\"dataframe\">\n",
       "  <thead>\n",
       "    <tr style=\"text-align: right;\">\n",
       "      <th></th>\n",
       "      <th>percent_pload_pass</th>\n",
       "      <th>percent_capacity</th>\n",
       "      <th>accel_time</th>\n",
       "      <th>route</th>\n",
       "      <th>aircraft_group</th>\n",
       "      <th>fl_date</th>\n",
       "      <th>mkt_carrier</th>\n",
       "      <th>mkt_carrier_fl_num</th>\n",
       "      <th>crs_dep_time</th>\n",
       "      <th>crs_arr_time</th>\n",
       "      <th>crs_elapsed_time</th>\n",
       "      <th>distance_y</th>\n",
       "      <th>arr_delay</th>\n",
       "      <th>crs_route</th>\n",
       "      <th>time_diff_crs_elapsed_route_time</th>\n",
       "      <th>speed</th>\n",
       "    </tr>\n",
       "  </thead>\n",
       "  <tbody>\n",
       "    <tr>\n",
       "      <th>861864</th>\n",
       "      <td>0.299858</td>\n",
       "      <td>0.412709</td>\n",
       "      <td>560.0</td>\n",
       "      <td>EWR-BDL</td>\n",
       "      <td>6.0</td>\n",
       "      <td>2018-01-03</td>\n",
       "      <td>UA</td>\n",
       "      <td>4958.0</td>\n",
       "      <td>830</td>\n",
       "      <td>940</td>\n",
       "      <td>70.0</td>\n",
       "      <td>116.0</td>\n",
       "      <td>1.0</td>\n",
       "      <td>70.0</td>\n",
       "      <td>0.0</td>\n",
       "      <td>4.142857</td>\n",
       "    </tr>\n",
       "    <tr>\n",
       "      <th>15766982</th>\n",
       "      <td>0.607021</td>\n",
       "      <td>0.812857</td>\n",
       "      <td>75.0</td>\n",
       "      <td>TPA-BNA</td>\n",
       "      <td>6.0</td>\n",
       "      <td>2018-12-14</td>\n",
       "      <td>WN</td>\n",
       "      <td>2161.0</td>\n",
       "      <td>655</td>\n",
       "      <td>745</td>\n",
       "      <td>110.0</td>\n",
       "      <td>612.0</td>\n",
       "      <td>-11.0</td>\n",
       "      <td>50.0</td>\n",
       "      <td>-60.0</td>\n",
       "      <td>7.463415</td>\n",
       "    </tr>\n",
       "    <tr>\n",
       "      <th>30987332</th>\n",
       "      <td>0.593843</td>\n",
       "      <td>0.825990</td>\n",
       "      <td>1328.0</td>\n",
       "      <td>BUR-SEA</td>\n",
       "      <td>6.0</td>\n",
       "      <td>2019-11-19</td>\n",
       "      <td>AS</td>\n",
       "      <td>1021.0</td>\n",
       "      <td>800</td>\n",
       "      <td>1047</td>\n",
       "      <td>167.0</td>\n",
       "      <td>937.0</td>\n",
       "      <td>-14.0</td>\n",
       "      <td>167.0</td>\n",
       "      <td>0.0</td>\n",
       "      <td>7.045113</td>\n",
       "    </tr>\n",
       "  </tbody>\n",
       "</table>\n",
       "</div>"
      ],
      "text/plain": [
       "          percent_pload_pass  percent_capacity  accel_time    route  \\\n",
       "861864              0.299858          0.412709       560.0  EWR-BDL   \n",
       "15766982            0.607021          0.812857        75.0  TPA-BNA   \n",
       "30987332            0.593843          0.825990      1328.0  BUR-SEA   \n",
       "\n",
       "          aircraft_group     fl_date mkt_carrier  mkt_carrier_fl_num  \\\n",
       "861864               6.0  2018-01-03          UA              4958.0   \n",
       "15766982             6.0  2018-12-14          WN              2161.0   \n",
       "30987332             6.0  2019-11-19          AS              1021.0   \n",
       "\n",
       "         crs_dep_time crs_arr_time  crs_elapsed_time  distance_y  arr_delay  \\\n",
       "861864            830          940              70.0       116.0        1.0   \n",
       "15766982          655          745             110.0       612.0      -11.0   \n",
       "30987332          800         1047             167.0       937.0      -14.0   \n",
       "\n",
       "          crs_route  time_diff_crs_elapsed_route_time     speed  \n",
       "861864         70.0                               0.0  4.142857  \n",
       "15766982       50.0                             -60.0  7.463415  \n",
       "30987332      167.0                               0.0  7.045113  "
      ]
     },
     "execution_count": 10,
     "metadata": {},
     "output_type": "execute_result"
    }
   ],
   "source": [
    "time_fet = ['crs_dep_time','crs_arr_time']\n",
    "df_btstr[time_fet[0]] = df_btstr[time_fet[0]].apply(format_time_string)\n",
    "df_btstr[time_fet[1]] = df_btstr[time_fet[1]].apply(format_time_string)\n",
    "df_btstr.head(3)"
   ]
  },
  {
   "cell_type": "code",
   "execution_count": 11,
   "id": "4379dfa0-ed67-4e31-92c6-23a63224c751",
   "metadata": {},
   "outputs": [
    {
     "data": {
      "text/html": [
       "<div>\n",
       "<style scoped>\n",
       "    .dataframe tbody tr th:only-of-type {\n",
       "        vertical-align: middle;\n",
       "    }\n",
       "\n",
       "    .dataframe tbody tr th {\n",
       "        vertical-align: top;\n",
       "    }\n",
       "\n",
       "    .dataframe thead th {\n",
       "        text-align: right;\n",
       "    }\n",
       "</style>\n",
       "<table border=\"1\" class=\"dataframe\">\n",
       "  <thead>\n",
       "    <tr style=\"text-align: right;\">\n",
       "      <th></th>\n",
       "      <th>mkt_carrier</th>\n",
       "      <th>percent_capacity</th>\n",
       "    </tr>\n",
       "  </thead>\n",
       "  <tbody>\n",
       "    <tr>\n",
       "      <th>0</th>\n",
       "      <td>AA</td>\n",
       "      <td>0.847087</td>\n",
       "    </tr>\n",
       "    <tr>\n",
       "      <th>1</th>\n",
       "      <td>AS</td>\n",
       "      <td>0.820517</td>\n",
       "    </tr>\n",
       "    <tr>\n",
       "      <th>2</th>\n",
       "      <td>B6</td>\n",
       "      <td>0.829091</td>\n",
       "    </tr>\n",
       "    <tr>\n",
       "      <th>3</th>\n",
       "      <td>DL</td>\n",
       "      <td>0.864436</td>\n",
       "    </tr>\n",
       "    <tr>\n",
       "      <th>4</th>\n",
       "      <td>F9</td>\n",
       "      <td>0.883230</td>\n",
       "    </tr>\n",
       "    <tr>\n",
       "      <th>5</th>\n",
       "      <td>G4</td>\n",
       "      <td>0.865385</td>\n",
       "    </tr>\n",
       "    <tr>\n",
       "      <th>6</th>\n",
       "      <td>HA</td>\n",
       "      <td>0.764133</td>\n",
       "    </tr>\n",
       "    <tr>\n",
       "      <th>7</th>\n",
       "      <td>NK</td>\n",
       "      <td>0.863199</td>\n",
       "    </tr>\n",
       "    <tr>\n",
       "      <th>8</th>\n",
       "      <td>UA</td>\n",
       "      <td>0.853487</td>\n",
       "    </tr>\n",
       "    <tr>\n",
       "      <th>9</th>\n",
       "      <td>VX</td>\n",
       "      <td>0.835534</td>\n",
       "    </tr>\n",
       "    <tr>\n",
       "      <th>10</th>\n",
       "      <td>WN</td>\n",
       "      <td>0.823983</td>\n",
       "    </tr>\n",
       "  </tbody>\n",
       "</table>\n",
       "</div>"
      ],
      "text/plain": [
       "   mkt_carrier  percent_capacity\n",
       "0           AA          0.847087\n",
       "1           AS          0.820517\n",
       "2           B6          0.829091\n",
       "3           DL          0.864436\n",
       "4           F9          0.883230\n",
       "5           G4          0.865385\n",
       "6           HA          0.764133\n",
       "7           NK          0.863199\n",
       "8           UA          0.853487\n",
       "9           VX          0.835534\n",
       "10          WN          0.823983"
      ]
     },
     "execution_count": 11,
     "metadata": {},
     "output_type": "execute_result"
    }
   ],
   "source": [
    "mean_p_Cap = df_btstr.groupby('mkt_carrier', as_index=False)['percent_capacity'].median()\n",
    "mean_p_Cap"
   ]
  },
  {
   "cell_type": "markdown",
   "id": "78103391-d0ce-4cd9-8beb-0957a56acc40",
   "metadata": {},
   "source": [
    "### Test data filtering"
   ]
  },
  {
   "cell_type": "code",
   "execution_count": 12,
   "id": "172db47c-8a5f-4e4b-93a7-1c3520d05c99",
   "metadata": {},
   "outputs": [
    {
     "name": "stdout",
     "output_type": "stream",
     "text": [
      "\u0007CPU times: user 4.02 s, sys: 711 ms, total: 4.73 s\n",
      "Wall time: 5.3 s\n"
     ]
    },
    {
     "data": {
      "text/plain": [
       "0"
      ]
     },
     "execution_count": 12,
     "metadata": {},
     "output_type": "execute_result"
    }
   ],
   "source": [
    "%%time\n",
    "df = pd.read_csv('flights_test2020.csv')\n",
    "df = df.reset_index()\n",
    "df = df.drop(columns=['index','Unnamed: 0'])\n",
    "# a list of features to drop\n",
    "drop_list = ['branded_code_share','mkt_carrier','op_unique_carrier','tail_num',\n",
    "             'origin_city_name','dest_city_name','op_carrier_fl_num','dup','flights',\n",
    "             'origin_airport_id','dest_airport_id']\n",
    "        \n",
    "df = df.drop(columns=drop_list)\n",
    "        \n",
    "#combine origin & dest as route\n",
    "df['origin'] = df['origin']+'-'+df['dest']\n",
    "df = df.drop(columns=['dest'])\n",
    "df = df.rename(columns={'origin':'route'})\n",
    "\n",
    "#convert fl_date into date format\n",
    "#df['fl_date'] = pd.to_datetime(df['fl_date'], unit='ms').dt.date\n",
    "\n",
    "# convert crs_dep_time, crs_arr_time into datetime type\n",
    "time_features = ['crs_dep_time','crs_arr_time']\n",
    "        \n",
    "# convert into string\n",
    "df[time_features] = df[time_features].astype(str)\n",
    "\n",
    "# fill the string into 4 digits only\n",
    "df[time_features] = df[time_features].apply(lambda x:x.str.zfill(4))\n",
    "\n",
    "\n",
    "os.system(\"printf '\\a'\")"
   ]
  },
  {
   "cell_type": "code",
   "execution_count": 13,
   "id": "bc8720cb-745f-43b6-89dd-a580d8692fa0",
   "metadata": {},
   "outputs": [
    {
     "data": {
      "text/plain": [
       "(660556, 8)"
      ]
     },
     "execution_count": 13,
     "metadata": {},
     "output_type": "execute_result"
    }
   ],
   "source": [
    "df.shape"
   ]
  },
  {
   "cell_type": "code",
   "execution_count": 14,
   "id": "02cc511a-ddf0-4b59-8d4a-ac30d81df95c",
   "metadata": {},
   "outputs": [],
   "source": [
    "df= df.rename(columns={'mkt_unique_carrier':'mkt_carrier'})\n",
    "\n",
    "df['percent_capacity'] = np.where(df.mkt_carrier ==mean_p_Cap.mkt_carrier[0],mean_p_Cap.percent_capacity[0],np.nan)\n",
    "df['percent_capacity'] = np.where(df.mkt_carrier ==mean_p_Cap.mkt_carrier[1],mean_p_Cap.percent_capacity[1],np.nan)\n",
    "df['percent_capacity'] = np.where(df.mkt_carrier ==mean_p_Cap.mkt_carrier[2],mean_p_Cap.percent_capacity[2],np.nan)\n",
    "df['percent_capacity'] = np.where(df.mkt_carrier ==mean_p_Cap.mkt_carrier[3],mean_p_Cap.percent_capacity[3],np.nan)\n",
    "df['percent_capacity'] = np.where(df.mkt_carrier ==mean_p_Cap.mkt_carrier[4],mean_p_Cap.percent_capacity[4],np.nan)\n",
    "df['percent_capacity'] = np.where(df.mkt_carrier ==mean_p_Cap.mkt_carrier[5],mean_p_Cap.percent_capacity[5],np.nan)\n",
    "df['percent_capacity'] = np.where(df.mkt_carrier ==mean_p_Cap.mkt_carrier[6],mean_p_Cap.percent_capacity[6],np.nan)\n",
    "df['percent_capacity'] = np.where(df.mkt_carrier ==mean_p_Cap.mkt_carrier[7],mean_p_Cap.percent_capacity[7],np.nan)\n",
    "df['percent_capacity'] = np.where(df.mkt_carrier ==mean_p_Cap.mkt_carrier[8],mean_p_Cap.percent_capacity[8],np.nan)\n",
    "df['percent_capacity'] = np.where(df.mkt_carrier ==mean_p_Cap.mkt_carrier[9],mean_p_Cap.percent_capacity[9],np.nan)\n",
    "df['percent_capacity'] = np.where(df.mkt_carrier ==mean_p_Cap.mkt_carrier[10],mean_p_Cap.percent_capacity[10],np.nan)"
   ]
  },
  {
   "cell_type": "code",
   "execution_count": 15,
   "id": "66293c1c-5d0d-47e6-8751-59a35b811211",
   "metadata": {},
   "outputs": [
    {
     "name": "stdout",
     "output_type": "stream",
     "text": [
      "\u0007CPU times: user 390 ms, sys: 29.7 ms, total: 419 ms\n",
      "Wall time: 498 ms\n"
     ]
    },
    {
     "data": {
      "text/plain": [
       "0"
      ]
     },
     "execution_count": 15,
     "metadata": {},
     "output_type": "execute_result"
    }
   ],
   "source": [
    "%%time\n",
    "\n",
    "df = df[df.mkt_carrier.isin(np.unique(df_btstr.mkt_carrier))]\n",
    "df = df[df.mkt_carrier_fl_num.isin(np.unique(df_btstr.mkt_carrier_fl_num))]\n",
    "#df = df[df.crs_dep_time.isin(np.unique(df_btstr.crs_dep_time))]\n",
    "#df = df[df.crs_arr_time.isin(np.unique(df_btstr.crs_arr_time))]\n",
    "#df = df[df.crs_elapsed_time.isin(np.unique(df_btstr.crs_elapsed_time))]\n",
    "#df = df[df.distance.isin(np.unique(df_btstr.distance_y))]\n",
    "#df = df[df.percent_capacity.isin(np.unique(df_btstr.percent_capacity))]\n",
    "\n",
    "\n",
    "os.system(\"printf '\\a'\")"
   ]
  },
  {
   "cell_type": "code",
   "execution_count": 16,
   "id": "d9837593-7068-4192-ad5b-7db595a1d066",
   "metadata": {},
   "outputs": [
    {
     "data": {
      "text/plain": [
       "(657910, 9)"
      ]
     },
     "execution_count": 16,
     "metadata": {},
     "output_type": "execute_result"
    }
   ],
   "source": [
    "df.shape"
   ]
  },
  {
   "cell_type": "markdown",
   "id": "1b882dc4-64f7-49e4-a0c7-01dc8517d047",
   "metadata": {
    "tags": []
   },
   "source": [
    "### Label encoding for string features"
   ]
  },
  {
   "cell_type": "code",
   "execution_count": 17,
   "id": "41724571-c776-49f8-b7df-7061670fbc6c",
   "metadata": {},
   "outputs": [
    {
     "name": "stdout",
     "output_type": "stream",
     "text": [
      "\u0007CPU times: user 581 ms, sys: 65 ms, total: 646 ms\n",
      "Wall time: 753 ms\n"
     ]
    },
    {
     "data": {
      "text/html": [
       "<div>\n",
       "<style scoped>\n",
       "    .dataframe tbody tr th:only-of-type {\n",
       "        vertical-align: middle;\n",
       "    }\n",
       "\n",
       "    .dataframe tbody tr th {\n",
       "        vertical-align: top;\n",
       "    }\n",
       "\n",
       "    .dataframe thead th {\n",
       "        text-align: right;\n",
       "    }\n",
       "</style>\n",
       "<table border=\"1\" class=\"dataframe\">\n",
       "  <thead>\n",
       "    <tr style=\"text-align: right;\">\n",
       "      <th></th>\n",
       "      <th>percent_pload_pass</th>\n",
       "      <th>percent_capacity</th>\n",
       "      <th>accel_time</th>\n",
       "      <th>route</th>\n",
       "      <th>aircraft_group</th>\n",
       "      <th>fl_date</th>\n",
       "      <th>mkt_carrier</th>\n",
       "      <th>mkt_carrier_fl_num</th>\n",
       "      <th>crs_dep_time</th>\n",
       "      <th>crs_arr_time</th>\n",
       "      <th>crs_elapsed_time</th>\n",
       "      <th>distance_y</th>\n",
       "      <th>arr_delay</th>\n",
       "      <th>crs_route</th>\n",
       "      <th>time_diff_crs_elapsed_route_time</th>\n",
       "      <th>speed</th>\n",
       "    </tr>\n",
       "  </thead>\n",
       "  <tbody>\n",
       "    <tr>\n",
       "      <th>0</th>\n",
       "      <td>2463</td>\n",
       "      <td>1433</td>\n",
       "      <td>554</td>\n",
       "      <td>1406</td>\n",
       "      <td>0</td>\n",
       "      <td>2</td>\n",
       "      <td>8</td>\n",
       "      <td>4931</td>\n",
       "      <td>1182</td>\n",
       "      <td>1360</td>\n",
       "      <td>40</td>\n",
       "      <td>27</td>\n",
       "      <td>69</td>\n",
       "      <td>40</td>\n",
       "      <td>8</td>\n",
       "      <td>740</td>\n",
       "    </tr>\n",
       "    <tr>\n",
       "      <th>1</th>\n",
       "      <td>45591</td>\n",
       "      <td>28997</td>\n",
       "      <td>69</td>\n",
       "      <td>4390</td>\n",
       "      <td>0</td>\n",
       "      <td>347</td>\n",
       "      <td>10</td>\n",
       "      <td>2159</td>\n",
       "      <td>1087</td>\n",
       "      <td>1245</td>\n",
       "      <td>80</td>\n",
       "      <td>415</td>\n",
       "      <td>57</td>\n",
       "      <td>20</td>\n",
       "      <td>6</td>\n",
       "      <td>15387</td>\n",
       "    </tr>\n",
       "    <tr>\n",
       "      <th>2</th>\n",
       "      <td>40178</td>\n",
       "      <td>32387</td>\n",
       "      <td>1322</td>\n",
       "      <td>572</td>\n",
       "      <td>0</td>\n",
       "      <td>687</td>\n",
       "      <td>1</td>\n",
       "      <td>1019</td>\n",
       "      <td>1152</td>\n",
       "      <td>112</td>\n",
       "      <td>137</td>\n",
       "      <td>677</td>\n",
       "      <td>54</td>\n",
       "      <td>137</td>\n",
       "      <td>8</td>\n",
       "      <td>11432</td>\n",
       "    </tr>\n",
       "    <tr>\n",
       "      <th>3</th>\n",
       "      <td>4695</td>\n",
       "      <td>17485</td>\n",
       "      <td>25</td>\n",
       "      <td>1462</td>\n",
       "      <td>0</td>\n",
       "      <td>69</td>\n",
       "      <td>8</td>\n",
       "      <td>1876</td>\n",
       "      <td>161</td>\n",
       "      <td>416</td>\n",
       "      <td>356</td>\n",
       "      <td>1342</td>\n",
       "      <td>26</td>\n",
       "      <td>176</td>\n",
       "      <td>3</td>\n",
       "      <td>18033</td>\n",
       "    </tr>\n",
       "    <tr>\n",
       "      <th>4</th>\n",
       "      <td>49781</td>\n",
       "      <td>45507</td>\n",
       "      <td>930</td>\n",
       "      <td>2783</td>\n",
       "      <td>0</td>\n",
       "      <td>249</td>\n",
       "      <td>3</td>\n",
       "      <td>119</td>\n",
       "      <td>399</td>\n",
       "      <td>657</td>\n",
       "      <td>131</td>\n",
       "      <td>744</td>\n",
       "      <td>85</td>\n",
       "      <td>191</td>\n",
       "      <td>10</td>\n",
       "      <td>8610</td>\n",
       "    </tr>\n",
       "  </tbody>\n",
       "</table>\n",
       "</div>"
      ],
      "text/plain": [
       "   percent_pload_pass  percent_capacity  accel_time  route  aircraft_group  \\\n",
       "0                2463              1433         554   1406               0   \n",
       "1               45591             28997          69   4390               0   \n",
       "2               40178             32387        1322    572               0   \n",
       "3                4695             17485          25   1462               0   \n",
       "4               49781             45507         930   2783               0   \n",
       "\n",
       "   fl_date  mkt_carrier  mkt_carrier_fl_num  crs_dep_time  crs_arr_time  \\\n",
       "0        2            8                4931          1182          1360   \n",
       "1      347           10                2159          1087          1245   \n",
       "2      687            1                1019          1152           112   \n",
       "3       69            8                1876           161           416   \n",
       "4      249            3                 119           399           657   \n",
       "\n",
       "   crs_elapsed_time  distance_y  arr_delay  crs_route  \\\n",
       "0                40          27         69         40   \n",
       "1                80         415         57         20   \n",
       "2               137         677         54        137   \n",
       "3               356        1342         26        176   \n",
       "4               131         744         85        191   \n",
       "\n",
       "   time_diff_crs_elapsed_route_time  speed  \n",
       "0                                 8    740  \n",
       "1                                 6  15387  \n",
       "2                                 8  11432  \n",
       "3                                 3  18033  \n",
       "4                                10   8610  "
      ]
     },
     "execution_count": 17,
     "metadata": {},
     "output_type": "execute_result"
    }
   ],
   "source": [
    "%%time\n",
    "# creating LabelEncoder object\n",
    "from sklearn.preprocessing import LabelEncoder\n",
    "import numpy as np\n",
    "enc = LabelEncoder()\n",
    "\n",
    "# encoding\n",
    "dfe = pd.DataFrame()    # created empty dataframe for saving encoded values\n",
    "for column in df_btstr.columns:\n",
    "    dfe[column] = enc.fit_transform(df_btstr[column])\n",
    "    \n",
    "os.system(\"printf '\\a'\")\n",
    "dfe.head()"
   ]
  },
  {
   "cell_type": "code",
   "execution_count": 18,
   "id": "a4e28900-6813-4d44-84dc-8d44bc174a88",
   "metadata": {},
   "outputs": [],
   "source": [
    "#df_all.apply(LabelEncoder().fit_transform)\n",
    "#df_all['fl_date'] = enc.fit_transform(df_all[['fl_date']])\n",
    "#df_all['fl_date'] = enc.inverse_transform(df_all[['fl_date']])\n",
    "#df_all['route'] = enc.fit_transform(df_all[['route']])\n",
    "#df_all['mkt_carrier'] = enc.fit_transform(df_all[['mkt_carrier']])\n",
    "#df_all['crs_dep_time'] = enc.fit_transform(df_all[['crs_dep_time']])\n",
    "#df_all['crs_arr_time'] = enc.fit_transform(df_all[['crs_arr_time']])"
   ]
  },
  {
   "cell_type": "markdown",
   "id": "483d989a-8b1b-4694-a6cb-106d4f27179c",
   "metadata": {
    "tags": []
   },
   "source": [
    "### Feature Selection "
   ]
  },
  {
   "cell_type": "code",
   "execution_count": 19,
   "id": "95b4ea56-785f-42f9-965d-2275b99c57f9",
   "metadata": {},
   "outputs": [
    {
     "name": "stdout",
     "output_type": "stream",
     "text": [
      "\u0007CPU times: user 31.7 ms, sys: 42.2 ms, total: 73.9 ms\n",
      "Wall time: 129 ms\n"
     ]
    },
    {
     "data": {
      "text/plain": [
       "0"
      ]
     },
     "execution_count": 19,
     "metadata": {},
     "output_type": "execute_result"
    }
   ],
   "source": [
    "%%time\n",
    "#split dataset in features and target variable\n",
    "#features = ['percent_pload_pass','percent_capacity','accel_time','route','aircraft_group','fl_date','mkt_carrier','mkt_carrier_fl_num',\n",
    "#            'crs_dep_time','crs_arr_time','crs_elapsed_time','distance_y','crs_route','time_diff_crs_elapsed_route_time','speed']\n",
    "#features = ['percent_capacity','route','fl_date','mkt_carrier','mkt_carrier_fl_num',\n",
    "#            'crs_dep_time','crs_arr_time','crs_elapsed_time','distance_y','crs_route','time_diff_crs_elapsed_route_time']\n",
    "\n",
    "#features = ['percent_capacity','route','aircraft_group','fl_date','mkt_carrier','mkt_carrier_fl_num',\n",
    "#            'crs_dep_time','crs_arr_time','crs_elapsed_time','distance_y','crs_route','time_diff_crs_elapsed_route_time','speed']\n",
    "\n",
    "#features = ['accel_time','route','aircraft_group','fl_date','mkt_carrier','mkt_carrier_fl_num',\n",
    "#            'crs_dep_time','crs_arr_time','crs_elapsed_time','distance_y','crs_route','time_diff_crs_elapsed_route_time','speed']\n",
    "\n",
    "#features = ['accel_time','route','aircraft_group','fl_date','mkt_carrier','mkt_carrier_fl_num',\n",
    "#            'crs_dep_time','crs_elapsed_time','distance_y','crs_route','time_diff_crs_elapsed_route_time']\n",
    "\n",
    "\n",
    "#features = ['percent_capacity','accel_time','route','fl_date','mkt_carrier','mkt_carrier_fl_num',\n",
    "#            'crs_dep_time','crs_arr_time','crs_elapsed_time','distance_y','crs_route',\n",
    "#            'time_diff_crs_elapsed_route_time']\n",
    "\n",
    "\n",
    "features = ['fl_date','mkt_carrier','mkt_carrier_fl_num','route','crs_dep_time','crs_arr_time','crs_elapsed_time','distance_y','percent_capacity']\n",
    "X = dfe[features] # features\n",
    "y = dfe.arr_delay # target\n",
    "\n",
    "os.system(\"printf '\\a'\")"
   ]
  },
  {
   "cell_type": "markdown",
   "id": "a9e8b8a6-e72e-4d78-850e-854ad219db0f",
   "metadata": {
    "tags": []
   },
   "source": [
    "### Split data into train and test sets"
   ]
  },
  {
   "cell_type": "code",
   "execution_count": 20,
   "id": "cc0a2d9c-5353-47f0-a203-c01529b5902b",
   "metadata": {},
   "outputs": [
    {
     "name": "stdout",
     "output_type": "stream",
     "text": [
      "\u0007CPU times: user 58.3 ms, sys: 15.4 ms, total: 73.7 ms\n",
      "Wall time: 138 ms\n"
     ]
    },
    {
     "data": {
      "text/plain": [
       "0"
      ]
     },
     "execution_count": 20,
     "metadata": {},
     "output_type": "execute_result"
    }
   ],
   "source": [
    "%%time\n",
    "# Split dataset into training set and test set\n",
    "X_train, X_test, y_train, y_test = train_test_split(X, y, test_size=0.3, random_state=1) # 70% training and 30% test\n",
    "os.system(\"printf '\\a'\")"
   ]
  },
  {
   "cell_type": "markdown",
   "id": "85baeadc-5946-4da0-82f5-020f6c848837",
   "metadata": {},
   "source": [
    "### Train model with all features"
   ]
  },
  {
   "cell_type": "code",
   "execution_count": 39,
   "id": "733ff698-cd2c-4f4e-8a08-9a42e969d295",
   "metadata": {},
   "outputs": [
    {
     "name": "stdout",
     "output_type": "stream",
     "text": [
      "\u0007CPU times: user 3.08 ms, sys: 130 ms, total: 134 ms\n",
      "Wall time: 162 ms\n"
     ]
    },
    {
     "data": {
      "text/plain": [
       "0"
      ]
     },
     "execution_count": 39,
     "metadata": {},
     "output_type": "execute_result"
    }
   ],
   "source": [
    "%%time\n",
    "#Create a Gaussian Classifier\n",
    "clf=RandomForestRegressor(n_estimators=100)\n",
    "\n",
    "os.system(\"printf '\\a'\")"
   ]
  },
  {
   "cell_type": "code",
   "execution_count": 40,
   "id": "a9c5cd58-ed66-4ee0-a1d7-ff62d7a1fd39",
   "metadata": {},
   "outputs": [
    {
     "name": "stdout",
     "output_type": "stream",
     "text": [
      "\u0007CPU times: user 1min 54s, sys: 1.87 s, total: 1min 56s\n",
      "Wall time: 2min 9s\n"
     ]
    },
    {
     "data": {
      "text/plain": [
       "0"
      ]
     },
     "execution_count": 40,
     "metadata": {},
     "output_type": "execute_result"
    }
   ],
   "source": [
    "%%time\n",
    "\n",
    "#Train the model using the training sets y_pred=clf.predict(X_test)\n",
    "clf.fit(X_train,y_train)\n",
    "\n",
    "os.system(\"printf '\\a'\")"
   ]
  },
  {
   "cell_type": "code",
   "execution_count": 41,
   "id": "3d9b8789-0ce6-428d-9912-27a3dfef5c5c",
   "metadata": {
    "tags": []
   },
   "outputs": [
    {
     "data": {
      "text/plain": [
       "0.8561187463252321"
      ]
     },
     "execution_count": 41,
     "metadata": {},
     "output_type": "execute_result"
    }
   ],
   "source": [
    "clf.score(X_train,y_train)"
   ]
  },
  {
   "cell_type": "markdown",
   "id": "da8ff8d6-8cc2-45c1-ac36-c8dc615f3603",
   "metadata": {},
   "source": [
    "### Cross validation with test"
   ]
  },
  {
   "cell_type": "code",
   "execution_count": 42,
   "id": "80292bee-ca15-450f-b73a-24f8d52c11c5",
   "metadata": {},
   "outputs": [
    {
     "name": "stdout",
     "output_type": "stream",
     "text": [
      "\u0007CPU times: user 2.58 s, sys: 35.8 ms, total: 2.62 s\n",
      "Wall time: 2.85 s\n"
     ]
    },
    {
     "data": {
      "text/plain": [
       "0"
      ]
     },
     "execution_count": 42,
     "metadata": {},
     "output_type": "execute_result"
    }
   ],
   "source": [
    "%%time\n",
    "\n",
    "y_pred = clf.predict(X_test)\n",
    "\n",
    "os.system(\"printf '\\a'\")"
   ]
  },
  {
   "cell_type": "code",
   "execution_count": 43,
   "id": "e099574b-89dd-469a-9c74-1559924330d8",
   "metadata": {},
   "outputs": [
    {
     "name": "stdout",
     "output_type": "stream",
     "text": [
      "r2 score for cross validation is: -0.016498757183181167\n",
      "mean_squared_error score for cross validation is: 1922.742684341544\n",
      "mean_absolute_error score for cross validation is: 24.444399702165335\n",
      "\u0007CPU times: user 6.07 ms, sys: 3.48 ms, total: 9.54 ms\n",
      "Wall time: 12.5 ms\n"
     ]
    },
    {
     "data": {
      "text/plain": [
       "0"
      ]
     },
     "execution_count": 43,
     "metadata": {},
     "output_type": "execute_result"
    }
   ],
   "source": [
    "%%time\n",
    "\n",
    "r2 = r2_score(y_test,y_pred)\n",
    "mean_sq_er = mean_squared_error(y_test,y_pred)\n",
    "mean_abs_er = mean_absolute_error(y_test,y_pred)\n",
    "\n",
    "print('r2 score for cross validation is: {}'.format(r2))\n",
    "print('mean_squared_error score for cross validation is: {}'.format(mean_sq_er))\n",
    "print('mean_absolute_error score for cross validation is: {}'.format(mean_abs_er))\n",
    "os.system(\"printf '\\a'\")"
   ]
  },
  {
   "cell_type": "markdown",
   "id": "7f67e1a6-4618-40f3-95da-88a7c7a43ce1",
   "metadata": {},
   "source": [
    "### Train Test Data"
   ]
  },
  {
   "cell_type": "code",
   "execution_count": null,
   "id": "f651d06e-91f6-4285-b507-a1acaa95377a",
   "metadata": {},
   "outputs": [],
   "source": []
  },
  {
   "cell_type": "code",
   "execution_count": 45,
   "id": "79469511-6e05-40a9-85e1-f77ba61cee6e",
   "metadata": {},
   "outputs": [],
   "source": [
    "fl_dates = pd.DataFrame(df.fl_date)\n",
    "routes = pd.DataFrame(df.route)"
   ]
  },
  {
   "cell_type": "code",
   "execution_count": 46,
   "id": "cf685ce3-4d96-4a35-9a5f-880721f5834e",
   "metadata": {},
   "outputs": [
    {
     "data": {
      "text/html": [
       "<div>\n",
       "<style scoped>\n",
       "    .dataframe tbody tr th:only-of-type {\n",
       "        vertical-align: middle;\n",
       "    }\n",
       "\n",
       "    .dataframe tbody tr th {\n",
       "        vertical-align: top;\n",
       "    }\n",
       "\n",
       "    .dataframe thead th {\n",
       "        text-align: right;\n",
       "    }\n",
       "</style>\n",
       "<table border=\"1\" class=\"dataframe\">\n",
       "  <thead>\n",
       "    <tr style=\"text-align: right;\">\n",
       "      <th></th>\n",
       "      <th>fl_date</th>\n",
       "      <th>mkt_carrier</th>\n",
       "      <th>mkt_carrier_fl_num</th>\n",
       "      <th>route</th>\n",
       "      <th>crs_dep_time</th>\n",
       "      <th>crs_arr_time</th>\n",
       "      <th>crs_elapsed_time</th>\n",
       "      <th>distance</th>\n",
       "      <th>percent_capacity</th>\n",
       "    </tr>\n",
       "  </thead>\n",
       "  <tbody>\n",
       "    <tr>\n",
       "      <th>0</th>\n",
       "      <td>2020-01-01</td>\n",
       "      <td>WN</td>\n",
       "      <td>5888.0</td>\n",
       "      <td>ONT-SFO</td>\n",
       "      <td>1810</td>\n",
       "      <td>1945</td>\n",
       "      <td>95.0</td>\n",
       "      <td>363.0</td>\n",
       "      <td>0.823983</td>\n",
       "    </tr>\n",
       "    <tr>\n",
       "      <th>1</th>\n",
       "      <td>2020-01-01</td>\n",
       "      <td>WN</td>\n",
       "      <td>6276.0</td>\n",
       "      <td>ONT-SFO</td>\n",
       "      <td>1150</td>\n",
       "      <td>1320</td>\n",
       "      <td>90.0</td>\n",
       "      <td>363.0</td>\n",
       "      <td>0.823983</td>\n",
       "    </tr>\n",
       "    <tr>\n",
       "      <th>2</th>\n",
       "      <td>2020-01-01</td>\n",
       "      <td>WN</td>\n",
       "      <td>4598.0</td>\n",
       "      <td>ONT-SJC</td>\n",
       "      <td>2020</td>\n",
       "      <td>2130</td>\n",
       "      <td>70.0</td>\n",
       "      <td>333.0</td>\n",
       "      <td>0.823983</td>\n",
       "    </tr>\n",
       "    <tr>\n",
       "      <th>3</th>\n",
       "      <td>2020-01-01</td>\n",
       "      <td>WN</td>\n",
       "      <td>4761.0</td>\n",
       "      <td>ONT-SJC</td>\n",
       "      <td>1340</td>\n",
       "      <td>1455</td>\n",
       "      <td>75.0</td>\n",
       "      <td>333.0</td>\n",
       "      <td>0.823983</td>\n",
       "    </tr>\n",
       "    <tr>\n",
       "      <th>4</th>\n",
       "      <td>2020-01-01</td>\n",
       "      <td>WN</td>\n",
       "      <td>5162.0</td>\n",
       "      <td>ONT-SJC</td>\n",
       "      <td>0915</td>\n",
       "      <td>1035</td>\n",
       "      <td>80.0</td>\n",
       "      <td>333.0</td>\n",
       "      <td>0.823983</td>\n",
       "    </tr>\n",
       "  </tbody>\n",
       "</table>\n",
       "</div>"
      ],
      "text/plain": [
       "      fl_date mkt_carrier  mkt_carrier_fl_num    route crs_dep_time  \\\n",
       "0  2020-01-01          WN              5888.0  ONT-SFO         1810   \n",
       "1  2020-01-01          WN              6276.0  ONT-SFO         1150   \n",
       "2  2020-01-01          WN              4598.0  ONT-SJC         2020   \n",
       "3  2020-01-01          WN              4761.0  ONT-SJC         1340   \n",
       "4  2020-01-01          WN              5162.0  ONT-SJC         0915   \n",
       "\n",
       "  crs_arr_time  crs_elapsed_time  distance  percent_capacity  \n",
       "0         1945              95.0     363.0          0.823983  \n",
       "1         1320              90.0     363.0          0.823983  \n",
       "2         2130              70.0     333.0          0.823983  \n",
       "3         1455              75.0     333.0          0.823983  \n",
       "4         1035              80.0     333.0          0.823983  "
      ]
     },
     "execution_count": 46,
     "metadata": {},
     "output_type": "execute_result"
    }
   ],
   "source": [
    "df.head()"
   ]
  },
  {
   "cell_type": "code",
   "execution_count": 47,
   "id": "c7d097f8-b2b6-49cf-b831-96c65b479b34",
   "metadata": {},
   "outputs": [],
   "source": [
    "types = {'route':'string','fl_date':'string','mkt_carrier':'string','mkt_carrier_fl_num':'float',\n",
    "         'crs_dep_time':'string','crs_arr_time':'string','crs_elapsed_time':'float','distance':'float'}"
   ]
  },
  {
   "cell_type": "code",
   "execution_count": 48,
   "id": "768915ac-b5d9-41b6-b360-6f0ef54cb14b",
   "metadata": {},
   "outputs": [
    {
     "name": "stdout",
     "output_type": "stream",
     "text": [
      "\u0007CPU times: user 127 ms, sys: 41.4 ms, total: 169 ms\n",
      "Wall time: 199 ms\n"
     ]
    },
    {
     "data": {
      "text/plain": [
       "0"
      ]
     },
     "execution_count": 48,
     "metadata": {},
     "output_type": "execute_result"
    }
   ],
   "source": [
    "%%time\n",
    "df = df.astype(types)\n",
    "os.system(\"printf '\\a'\")"
   ]
  },
  {
   "cell_type": "code",
   "execution_count": 49,
   "id": "582c83c6-b238-4aae-b9b5-d82ab230fa05",
   "metadata": {},
   "outputs": [
    {
     "name": "stdout",
     "output_type": "stream",
     "text": [
      "\u0007CPU times: user 1.18 s, sys: 108 ms, total: 1.28 s\n",
      "Wall time: 1.37 s\n"
     ]
    },
    {
     "data": {
      "text/html": [
       "<div>\n",
       "<style scoped>\n",
       "    .dataframe tbody tr th:only-of-type {\n",
       "        vertical-align: middle;\n",
       "    }\n",
       "\n",
       "    .dataframe tbody tr th {\n",
       "        vertical-align: top;\n",
       "    }\n",
       "\n",
       "    .dataframe thead th {\n",
       "        text-align: right;\n",
       "    }\n",
       "</style>\n",
       "<table border=\"1\" class=\"dataframe\">\n",
       "  <thead>\n",
       "    <tr style=\"text-align: right;\">\n",
       "      <th></th>\n",
       "      <th>fl_date</th>\n",
       "      <th>mkt_carrier</th>\n",
       "      <th>mkt_carrier_fl_num</th>\n",
       "      <th>route</th>\n",
       "      <th>crs_dep_time</th>\n",
       "      <th>crs_arr_time</th>\n",
       "      <th>crs_elapsed_time</th>\n",
       "      <th>distance</th>\n",
       "      <th>percent_capacity</th>\n",
       "    </tr>\n",
       "  </thead>\n",
       "  <tbody>\n",
       "    <tr>\n",
       "      <th>0</th>\n",
       "      <td>0</td>\n",
       "      <td>9</td>\n",
       "      <td>5855</td>\n",
       "      <td>3946</td>\n",
       "      <td>893</td>\n",
       "      <td>1073</td>\n",
       "      <td>70</td>\n",
       "      <td>251</td>\n",
       "      <td>0</td>\n",
       "    </tr>\n",
       "    <tr>\n",
       "      <th>1</th>\n",
       "      <td>0</td>\n",
       "      <td>9</td>\n",
       "      <td>6234</td>\n",
       "      <td>3946</td>\n",
       "      <td>513</td>\n",
       "      <td>688</td>\n",
       "      <td>65</td>\n",
       "      <td>251</td>\n",
       "      <td>0</td>\n",
       "    </tr>\n",
       "    <tr>\n",
       "      <th>2</th>\n",
       "      <td>0</td>\n",
       "      <td>9</td>\n",
       "      <td>4572</td>\n",
       "      <td>3947</td>\n",
       "      <td>1023</td>\n",
       "      <td>1178</td>\n",
       "      <td>45</td>\n",
       "      <td>223</td>\n",
       "      <td>0</td>\n",
       "    </tr>\n",
       "    <tr>\n",
       "      <th>3</th>\n",
       "      <td>0</td>\n",
       "      <td>9</td>\n",
       "      <td>4735</td>\n",
       "      <td>3947</td>\n",
       "      <td>623</td>\n",
       "      <td>783</td>\n",
       "      <td>50</td>\n",
       "      <td>223</td>\n",
       "      <td>0</td>\n",
       "    </tr>\n",
       "    <tr>\n",
       "      <th>4</th>\n",
       "      <td>0</td>\n",
       "      <td>9</td>\n",
       "      <td>5130</td>\n",
       "      <td>3947</td>\n",
       "      <td>358</td>\n",
       "      <td>523</td>\n",
       "      <td>55</td>\n",
       "      <td>223</td>\n",
       "      <td>0</td>\n",
       "    </tr>\n",
       "  </tbody>\n",
       "</table>\n",
       "</div>"
      ],
      "text/plain": [
       "   fl_date  mkt_carrier  mkt_carrier_fl_num  route  crs_dep_time  \\\n",
       "0        0            9                5855   3946           893   \n",
       "1        0            9                6234   3946           513   \n",
       "2        0            9                4572   3947          1023   \n",
       "3        0            9                4735   3947           623   \n",
       "4        0            9                5130   3947           358   \n",
       "\n",
       "   crs_arr_time  crs_elapsed_time  distance  percent_capacity  \n",
       "0          1073                70       251                 0  \n",
       "1           688                65       251                 0  \n",
       "2          1178                45       223                 0  \n",
       "3           783                50       223                 0  \n",
       "4           523                55       223                 0  "
      ]
     },
     "execution_count": 49,
     "metadata": {},
     "output_type": "execute_result"
    }
   ],
   "source": [
    "%%time\n",
    "# creating LabelEncoder object\n",
    "from sklearn.preprocessing import LabelEncoder\n",
    "import numpy as np\n",
    "enc = LabelEncoder()\n",
    "\n",
    "# encoding\n",
    "dfe_test = pd.DataFrame()    # created empty dataframe for saving encoded values\n",
    "for column in df.columns:\n",
    "    dfe_test[column] = enc.fit_transform(df[column])\n",
    "    \n",
    "os.system(\"printf '\\a'\")\n",
    "\n",
    "dfe_test.head()"
   ]
  },
  {
   "cell_type": "code",
   "execution_count": null,
   "id": "efcf753f-9cd6-491b-91a7-6e566e802d46",
   "metadata": {},
   "outputs": [],
   "source": []
  },
  {
   "cell_type": "code",
   "execution_count": 50,
   "id": "e3977fd8-a97e-462a-8b3d-c9e39eba0584",
   "metadata": {},
   "outputs": [],
   "source": [
    "y_test_pred = clf.predict(dfe_test)\n"
   ]
  },
  {
   "cell_type": "code",
   "execution_count": 51,
   "id": "dc55921d-af9b-41bb-91e4-7345d712e45e",
   "metadata": {},
   "outputs": [],
   "source": [
    "dfe_test['arr_delay_pred'] = y_test_pred"
   ]
  },
  {
   "cell_type": "code",
   "execution_count": 52,
   "id": "68fcdc17-88ea-4960-afe9-353bbab7e04c",
   "metadata": {},
   "outputs": [],
   "source": [
    "submit_df = dfe_test[['fl_date','mkt_carrier','mkt_carrier_fl_num','route','arr_delay_pred']]"
   ]
  },
  {
   "cell_type": "code",
   "execution_count": 53,
   "id": "553bafca-37c8-40c7-981b-715f817f1464",
   "metadata": {},
   "outputs": [],
   "source": [
    "submit_df.to_csv('submission_still_encoded_4.csv')"
   ]
  },
  {
   "cell_type": "code",
   "execution_count": null,
   "id": "244616bd-dbbf-4370-a588-038b2ddbd84b",
   "metadata": {},
   "outputs": [],
   "source": []
  },
  {
   "cell_type": "markdown",
   "id": "05512982-cba7-4688-a5ff-a0041b3cedc9",
   "metadata": {
    "tags": []
   },
   "source": [
    "### Save model with all features"
   ]
  },
  {
   "cell_type": "code",
   "execution_count": null,
   "id": "0b3d84cc-2c8b-41d1-b666-f939c06abfc8",
   "metadata": {},
   "outputs": [],
   "source": [
    "#%%time\n",
    "\n",
    "#filename = 'model_all_feat.sav'\n",
    "#pickle.dump(clf,open(filename,'wb'))\n",
    "\n",
    "\n",
    "#os.system(\"printf '\\a'\")"
   ]
  },
  {
   "cell_type": "markdown",
   "id": "286e6f16-672d-4b06-ab94-065be323d8ec",
   "metadata": {},
   "source": [
    "### SVM"
   ]
  },
  {
   "cell_type": "code",
   "execution_count": null,
   "id": "5815d166-7dc7-49d1-9b02-b2657882a959",
   "metadata": {},
   "outputs": [],
   "source": [
    "#%%time\n",
    "#clf_svm = svm.SVC(kernel='linear') # Linear Kernel\n",
    "\n",
    "#Train the model using the training sets\n",
    "#clf_svm.fit(X_train, y_train)\n",
    "\n",
    "#Predict the response for test dataset\n",
    "#y_pred = clf_svm.predict(X_test)\n",
    "\n",
    "#os.system(\"printf '\\a'\")"
   ]
  },
  {
   "cell_type": "code",
   "execution_count": null,
   "id": "e10366ae-39b3-4e37-a6a8-9a2a7aadb26b",
   "metadata": {},
   "outputs": [],
   "source": [
    "#clf_svm.score(X_train, y_train)"
   ]
  },
  {
   "cell_type": "code",
   "execution_count": null,
   "id": "5ef44859-69d2-4401-a534-bd671dd2fbc8",
   "metadata": {},
   "outputs": [],
   "source": [
    "#%%time\n",
    "\n",
    "#r2 = r2_score(y_test,y_pred)\n",
    "#mean_sq_er = mean_squared_error(y_test,y_pred)\n",
    "#mean_abs_er = mean_absolute_error(y_test,y_pred)\n",
    "\n",
    "#print('r2 score for cross validation is: {}'.format(r2))\n",
    "#print('mean_squared_error score for cross validation is: {}'.format(mean_sq_er))\n",
    "#print('mean_absolute_error score for cross validation is: {}'.format(mean_abs_er))\n",
    "#os.system(\"printf '\\a'\")"
   ]
  }
 ],
 "metadata": {
  "kernelspec": {
   "display_name": "Python 3 (ipykernel)",
   "language": "python",
   "name": "python3"
  },
  "language_info": {
   "codemirror_mode": {
    "name": "ipython",
    "version": 3
   },
   "file_extension": ".py",
   "mimetype": "text/x-python",
   "name": "python",
   "nbconvert_exporter": "python",
   "pygments_lexer": "ipython3",
   "version": "3.8.12"
  }
 },
 "nbformat": 4,
 "nbformat_minor": 5
}
