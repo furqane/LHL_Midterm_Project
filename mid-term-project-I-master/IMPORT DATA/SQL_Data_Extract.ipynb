{
 "cells": [
  {
   "cell_type": "code",
   "execution_count": 1,
   "id": "35104873-0efc-40c9-a95d-0f49b1b669e5",
   "metadata": {},
   "outputs": [],
   "source": [
    "import psycopg2 as pg\n",
    "import pandas as pd\n",
    "import config\n",
    "# import pandas.io.sql as psql "
   ]
  },
  {
   "cell_type": "code",
   "execution_count": 2,
   "id": "d6300bed-23af-4ba6-b05c-5a6a733b3e45",
   "metadata": {},
   "outputs": [
    {
     "name": "stdout",
     "output_type": "stream",
     "text": [
      "Database opened successfully\n"
     ]
    }
   ],
   "source": [
    "con = pg.connect(database = config.database,\n",
    "                       user = config.user,\n",
    "                       password = config.pwd,\n",
    "                       host = config.host,\n",
    "                       port = config.port)\n",
    "\n",
    "print('Database opened successfully')                "
   ]
  },
  {
   "cell_type": "code",
   "execution_count": 3,
   "id": "dc7f6846-fcc0-4bdd-843e-e855b34a9318",
   "metadata": {},
   "outputs": [],
   "source": [
    "# cursor object is used to execute commands\n",
    "cur = con.cursor()"
   ]
  },
  {
   "cell_type": "markdown",
   "id": "192899a2-5329-4bb1-a553-04b4961adf61",
   "metadata": {},
   "source": [
    "### Flights"
   ]
  },
  {
   "cell_type": "code",
   "execution_count": 5,
   "id": "da56e42c-5036-4a20-838e-df5b489c3abd",
   "metadata": {},
   "outputs": [],
   "source": [
    "# these queries took too long\n",
    "flight_2018 = pd.read_sql_query(\"SELECT * FROM flights WHERE fl_date LIKE '2018%'\", con)\n",
    "flight_2018.to_csv('flight_2018.csv')"
   ]
  },
  {
   "cell_type": "code",
   "execution_count": 4,
   "id": "d4825e9e-3008-4f68-851c-f58d24d30994",
   "metadata": {},
   "outputs": [],
   "source": [
    "flight_2019 = pd.read_sql_query(\"SELECT * FROM flights WHERE fl_date LIKE '2019%'\", con)\n",
    "flight_2019.to_csv('flight_2019.csv')"
   ]
  },
  {
   "cell_type": "code",
   "execution_count": 4,
   "id": "c569acfe-2ab6-4095-905d-d1f0b3582aef",
   "metadata": {},
   "outputs": [],
   "source": [
    "# make list for months:\n",
    "months = []\n",
    "for m in range(1,13):\n",
    "    str_m = str(m)\n",
    "    fil_zero = str_m.zfill(2)\n",
    "    months.append(fil_zero)\n",
    "    \n",
    "# make list for years:\n",
    "years = ['2018','2019']"
   ]
  },
  {
   "cell_type": "code",
   "execution_count": 6,
   "id": "357bf641-8585-4d4f-9bf7-37b21b0ba79d",
   "metadata": {},
   "outputs": [],
   "source": [
    "# forloop to get flight data into csv format\n",
    "for y in years:\n",
    "    for m in months:\n",
    "        sql_query = f\"select * from flights where fl_date LIKE '{y}-{m}%'\"\n",
    "        df = pd.read_sql_query(sql_query,con)\n",
    "        df.to_csv(f'flights_{y}_{m}.csv')"
   ]
  },
  {
   "cell_type": "markdown",
   "id": "2d2673d9-ca9a-4dc1-b3f8-1f295b083b7d",
   "metadata": {},
   "source": [
    "### Flights Test"
   ]
  },
  {
   "cell_type": "code",
   "execution_count": 12,
   "id": "d0f37931-f5a5-4288-9dbd-308123d20463",
   "metadata": {},
   "outputs": [],
   "source": [
    "# query to get flights_test into csv\n",
    "flights_test = pd.read_sql('select * from flights_test', con)\n",
    "flights_test.to_csv('flights_test.csv')"
   ]
  },
  {
   "cell_type": "markdown",
   "id": "bf7e18ca-c5fc-450d-9a43-328bc9cad84d",
   "metadata": {},
   "source": [
    "### Fuel Consumption"
   ]
  },
  {
   "cell_type": "code",
   "execution_count": 7,
   "id": "3027a78b-497e-4c79-8529-047f3724b390",
   "metadata": {},
   "outputs": [],
   "source": [
    "#fuel consumption to csv\n",
    "months = []\n",
    "for m in range(1,13):\n",
    "    str_m = str(m)\n",
    "    months.append(str_m)\n",
    "\n",
    "years = ['2018','2019']\n",
    "\n",
    "# for loop to get each month for each year\n",
    "for y in years:\n",
    "    for m in months:\n",
    "        sql_query = f\"select * from fuel_comsumption where month = {m} AND year = {y}\"\n",
    "        df = pd.read_sql_query(sql_query, con)\n",
    "        df.to_csv(f'fuel_consumption_{y}_{m}.csv')"
   ]
  },
  {
   "cell_type": "code",
   "execution_count": 8,
   "id": "3dc8d1d9-a0f7-498e-baef-73f8436f836e",
   "metadata": {},
   "outputs": [],
   "source": [
    "# queries for only years \n",
    "fuel_consumption_2018 = pd.read_sql_query(\"SELECT * FROM fuel_comsumption WHERE year = 2018\", con)\n",
    "fuel_consumption_2018.to_csv('fuel_consumption_2018.csv')\n",
    "\n",
    "fuel_consumption_2019 = pd.read_sql_query(\"SELECT * FROM fuel_comsumption WHERE year = 2019\", con)\n",
    "fuel_consumption_2019.to_csv('fuel_consumption_2019.csv')"
   ]
  },
  {
   "cell_type": "markdown",
   "id": "fd097d87-f322-4de8-9fdc-7c096cf02708",
   "metadata": {},
   "source": [
    "### Passenger Data"
   ]
  },
  {
   "cell_type": "code",
   "execution_count": 10,
   "id": "429b69c7-801e-4515-8c95-d25116d27c2a",
   "metadata": {},
   "outputs": [],
   "source": [
    "# for passenger data in months\n",
    "for y in years:\n",
    "    for m in months:\n",
    "        sql_query = f\"select * from passengers where month = {m} AND year = {y}\"\n",
    "        df = pd.read_sql_query(sql_query, con)\n",
    "        df.to_csv(f'passengers_{y}_{m}.csv')"
   ]
  },
  {
   "cell_type": "code",
   "execution_count": 11,
   "id": "4e187e2b-7b79-49e3-8a50-885ebece06d4",
   "metadata": {},
   "outputs": [],
   "source": [
    "# for just in years:\n",
    "passengers_2018 = pd.read_sql_query(\"SELECT * FROM passengers WHERE year = 2018\", con)\n",
    "passengers_2018.to_csv('passengers_2018.csv')\n",
    "\n",
    "passengers_2019 = pd.read_sql_query(\"SELECT * FROM passengers WHERE year = 2019\", con)\n",
    "passengers_2019.to_csv('passengers_2019.csv')"
   ]
  }
 ],
 "metadata": {
  "kernelspec": {
   "display_name": "Python 3 (ipykernel)",
   "language": "python",
   "name": "python3"
  },
  "language_info": {
   "codemirror_mode": {
    "name": "ipython",
    "version": 3
   },
   "file_extension": ".py",
   "mimetype": "text/x-python",
   "name": "python",
   "nbconvert_exporter": "python",
   "pygments_lexer": "ipython3",
   "version": "3.8.12"
  }
 },
 "nbformat": 4,
 "nbformat_minor": 5
}
