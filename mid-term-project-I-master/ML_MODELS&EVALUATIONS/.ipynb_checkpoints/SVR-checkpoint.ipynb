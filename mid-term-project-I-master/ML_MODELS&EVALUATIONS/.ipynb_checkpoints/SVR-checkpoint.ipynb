{
 "cells": [
  {
   "cell_type": "code",
   "execution_count": 1,
   "id": "66743768-cb38-40b3-8964-199815888846",
   "metadata": {},
   "outputs": [],
   "source": [
    "import pandas as pd\n",
    "import numpy as np\n",
    "pd.set_option('display.max_columns', None)\n",
    "X_train=pd.read_csv('X_train.csv', index_col=[0])\n",
    "X_test=pd.read_csv('X_test.csv', index_col=[0])\n",
    "y_train=pd.read_csv('y_train.csv', index_col=[0])\n",
    "y_test=pd.read_csv('y_test.csv', index_col=[0])\n",
    "from sklearn.metrics import r2_score\n",
    "from sklearn.metrics import mean_squared_error\n",
    "from sklearn.metrics import mean_absolute_error"
   ]
  },
  {
   "cell_type": "code",
   "execution_count": 2,
   "id": "9d7161dd-3396-47b8-ac71-1bd1d08ac270",
   "metadata": {},
   "outputs": [],
   "source": [
    "features_list = ['mkt_op_carrier_difference', 'Type_Cold', 'Type_Fog', 'Type_Hail',\n",
    "       'Type_Precipitation', 'Type_Rain', 'Type_Snow', 'dow_Friday',\n",
    "       'dow_Monday', 'dow_Saturday', 'dow_Sunday', 'dow_Thursday',\n",
    "       'dow_Tuesday', 'arr_dawn', 'arr_evening', 'arr_morning',\n",
    "       'arr_noon', 'dep_dawn', 'dep_evening', 'dep_morning', 'dep_noon',\n",
    "       'aircraft_4', 'aircraft_6', 'muc_AS', 'muc_B6', 'muc_DL', 'muc_F9',\n",
    "       'muc_G4', 'muc_HA', 'muc_NK', 'muc_UA', 'muc_WN',\n",
    "       'Passengers_Seat_Ratio', 'distance', 'Taxi_Holdup',\n",
    "       'crs_elapsed_time', 'origin_label', 'dest_label', \n",
    "       'origin_0','origin_1', 'origin_2', 'origin_3', 'origin_4', 'origin_5',\n",
    "       'origin_6', 'origin_7', 'origin_8', 'origin_9', 'dest_0', 'dest_1',\n",
    "       'dest_2', 'dest_3', 'dest_4', 'dest_5', 'dest_6', 'dest_7', 'dest_8', 'dest_9']"
   ]
  },
  {
   "cell_type": "code",
   "execution_count": 3,
   "id": "ccd2c3a1-685b-459f-ba4b-5a90cffacaa2",
   "metadata": {},
   "outputs": [],
   "source": [
    "fil_feat = ['mkt_op_carrier_difference', 'Type_Cold', 'Type_Fog', 'Type_Hail',\n",
    "       'Type_Precipitation', 'Type_Rain', 'Type_Snow', 'dow_Friday',\n",
    "       'dow_Monday', 'dow_Saturday', 'dow_Sunday', 'dow_Thursday',\n",
    "       'dow_Tuesday', 'arr_dawn', 'arr_evening', 'arr_morning',\n",
    "       'arr_noon', 'dep_dawn', 'dep_evening', 'dep_morning', 'dep_noon',\n",
    "       'aircraft_4', 'aircraft_6', 'muc_AS', 'muc_B6', 'muc_DL', 'muc_F9',\n",
    "       'muc_G4', 'muc_HA', 'muc_NK', 'muc_UA', 'muc_WN',\n",
    "       'Passengers_Seat_Ratio', 'distance', 'Taxi_Holdup',\n",
    "       'crs_elapsed_time', \n",
    "       'origin_0','origin_1', 'origin_2', 'origin_3', 'origin_4', 'origin_5',\n",
    "       'origin_6', 'origin_7', 'origin_8', 'origin_9', 'dest_0', 'dest_1',\n",
    "       'dest_2', 'dest_3', 'dest_4', 'dest_5', 'dest_6', 'dest_7', 'dest_8', 'dest_9']"
   ]
  },
  {
   "cell_type": "code",
   "execution_count": 4,
   "id": "7f6f7d99-0765-4200-9602-fb8f1ee2531b",
   "metadata": {},
   "outputs": [],
   "source": [
    "from sklearn.svm import SVR"
   ]
  },
  {
   "cell_type": "code",
   "execution_count": 5,
   "id": "537110fd-5974-452b-ae54-c4f1bdbbee4c",
   "metadata": {},
   "outputs": [],
   "source": [
    "svr = SVR()"
   ]
  },
  {
   "cell_type": "code",
   "execution_count": 6,
   "id": "b21ff52e-6ef6-40af-8b2f-44c436c21583",
   "metadata": {},
   "outputs": [
    {
     "data": {
      "text/plain": [
       "SVR()"
      ]
     },
     "execution_count": 6,
     "metadata": {},
     "output_type": "execute_result"
    }
   ],
   "source": [
    "svr.fit(X_train[fil_feat],np.array(y_train).ravel())"
   ]
  },
  {
   "cell_type": "code",
   "execution_count": 7,
   "id": "3656039d-c6f7-4c22-85d9-70a532ac0655",
   "metadata": {},
   "outputs": [],
   "source": [
    "y_pred = svr.predict(X_test[fil_feat])"
   ]
  },
  {
   "cell_type": "code",
   "execution_count": 9,
   "id": "e64b6715-ca33-41f0-b331-945c368ecb35",
   "metadata": {},
   "outputs": [
    {
     "name": "stdout",
     "output_type": "stream",
     "text": [
      "The R2 score is: 0.04100898028406641\n",
      "The R2 score is: 0.04100898028406641\n",
      "The MSE is: 2895.1491327320896\n",
      "The MAE is: 21.449416593707586\n"
     ]
    }
   ],
   "source": [
    "print('The R2 score is:', svr.score(X_test[fil_feat],y_test))\n",
    "print('The R2 score is:', r2_score(y_test,y_pred))\n",
    "print('The MSE is:', mean_squared_error(y_test,y_pred))\n",
    "print('The MAE is:', mean_absolute_error(y_test,y_pred))"
   ]
  },
  {
   "cell_type": "markdown",
   "id": "af463799-441c-44b2-82ee-5f1019a5ecec",
   "metadata": {},
   "source": [
    "### BASE XGBOOST MODEL PERFORMED BETTER THEREFORE, NO FURTHER EXPLORATION"
   ]
  },
  {
   "cell_type": "code",
   "execution_count": null,
   "id": "a9b09ecb-b4bf-4b1e-b4e7-91fd0f90e19c",
   "metadata": {},
   "outputs": [],
   "source": []
  }
 ],
 "metadata": {
  "kernelspec": {
   "display_name": "Python 3 (ipykernel)",
   "language": "python",
   "name": "python3"
  },
  "language_info": {
   "codemirror_mode": {
    "name": "ipython",
    "version": 3
   },
   "file_extension": ".py",
   "mimetype": "text/x-python",
   "name": "python",
   "nbconvert_exporter": "python",
   "pygments_lexer": "ipython3",
   "version": "3.8.12"
  }
 },
 "nbformat": 4,
 "nbformat_minor": 5
}
