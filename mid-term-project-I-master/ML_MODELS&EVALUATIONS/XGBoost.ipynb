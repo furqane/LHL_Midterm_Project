{
 "cells": [
  {
   "cell_type": "code",
   "execution_count": 1,
   "id": "fbfdecd6-2abd-413d-b715-02cdc6baff1c",
   "metadata": {},
   "outputs": [],
   "source": [
    "import pandas as pd\n",
    "import numpy as np\n",
    "pd.set_option('display.max_columns', None)\n",
    "X_train=pd.read_csv('X_train.csv', index_col=[0])\n",
    "X_test=pd.read_csv('X_test.csv', index_col=[0])\n",
    "y_train=pd.read_csv('y_train.csv', index_col=[0])\n",
    "y_test=pd.read_csv('y_test.csv', index_col=[0])\n",
    "from sklearn.metrics import r2_score\n",
    "from sklearn.metrics import mean_squared_error\n",
    "from sklearn.metrics import mean_absolute_error"
   ]
  },
  {
   "cell_type": "code",
   "execution_count": 2,
   "id": "7269604f-80d5-43a3-a788-73d7f44b5e96",
   "metadata": {},
   "outputs": [],
   "source": [
    "features_list = ['mkt_op_carrier_difference', 'Type_Cold', 'Type_Fog', 'Type_Hail',\n",
    "       'Type_Precipitation', 'Type_Rain', 'Type_Snow', 'dow_Friday',\n",
    "       'dow_Monday', 'dow_Saturday', 'dow_Sunday', 'dow_Thursday',\n",
    "       'dow_Tuesday', 'arr_dawn', 'arr_evening', 'arr_morning',\n",
    "       'arr_noon', 'dep_dawn', 'dep_evening', 'dep_morning', 'dep_noon',\n",
    "       'aircraft_4', 'aircraft_6', 'muc_AS', 'muc_B6', 'muc_DL', 'muc_F9',\n",
    "       'muc_G4', 'muc_HA', 'muc_NK', 'muc_UA', 'muc_WN',\n",
    "       'Passengers_Seat_Ratio', 'distance', 'Taxi_Holdup',\n",
    "       'crs_elapsed_time', 'origin_label', 'dest_label', \n",
    "       'origin_0','origin_1', 'origin_2', 'origin_3', 'origin_4', 'origin_5',\n",
    "       'origin_6', 'origin_7', 'origin_8', 'origin_9', 'dest_0', 'dest_1',\n",
    "       'dest_2', 'dest_3', 'dest_4', 'dest_5', 'dest_6', 'dest_7', 'dest_8', 'dest_9']"
   ]
  },
  {
   "cell_type": "markdown",
   "id": "043848b9-fd53-44ec-ae3b-d3fdc9d3c418",
   "metadata": {},
   "source": [
    "#### Filtered Feature List (Trial and Error & Feature_Importance)"
   ]
  },
  {
   "cell_type": "code",
   "execution_count": 3,
   "id": "4ed4b2ca-9165-421e-a195-2c42aeaa617a",
   "metadata": {},
   "outputs": [],
   "source": [
    "fil_feat = ['mkt_op_carrier_difference',\n",
    "            'Type_Cold','Type_Fog', 'Type_Hail', 'Type_Precipitation', 'Type_Rain', 'Type_Snow', \n",
    "            'dow_Friday', 'dow_Monday', 'dow_Saturday', 'dow_Sunday', 'dow_Thursday', 'dow_Tuesday', \n",
    "            'arr_dawn', 'arr_evening', 'arr_morning', 'arr_noon', \n",
    "            'dep_dawn', 'dep_evening', 'dep_morning', 'dep_noon', \n",
    "            'Passengers_Seat_Ratio', 'distance', 'Taxi_Holdup', 'crs_elapsed_time', \n",
    "            'origin_0', 'origin_1', 'origin_2', 'origin_3', 'origin_4', 'origin_5', 'origin_6', 'origin_7', 'origin_8', 'origin_9', 'dest_0', \n",
    "            'dest_1', 'dest_2', 'dest_3', 'dest_4', 'dest_5', 'dest_6', 'dest_7', 'dest_8', 'dest_9']"
   ]
  },
  {
   "cell_type": "markdown",
   "id": "8800e5f4-b90c-4bfa-985c-38612ad9eece",
   "metadata": {},
   "source": [
    "## XGBoost Base Model"
   ]
  },
  {
   "cell_type": "code",
   "execution_count": 4,
   "id": "ebd1e97c-8116-4204-a7ef-8fad2701ceee",
   "metadata": {},
   "outputs": [],
   "source": [
    "import xgboost as xgb"
   ]
  },
  {
   "cell_type": "code",
   "execution_count": 5,
   "id": "4aa057a2-f914-43de-9d3b-df99dc16d7dd",
   "metadata": {},
   "outputs": [],
   "source": [
    "xg_reg = xgb.XGBRegressor()"
   ]
  },
  {
   "cell_type": "code",
   "execution_count": 6,
   "id": "0e12b61a-6487-4d9b-a014-42ae61ac2fed",
   "metadata": {},
   "outputs": [
    {
     "data": {
      "text/plain": [
       "XGBRegressor(base_score=0.5, booster='gbtree', colsample_bylevel=1,\n",
       "             colsample_bynode=1, colsample_bytree=1, gamma=0, gpu_id=-1,\n",
       "             importance_type='gain', interaction_constraints='',\n",
       "             learning_rate=0.300000012, max_delta_step=0, max_depth=6,\n",
       "             min_child_weight=1, missing=nan, monotone_constraints='()',\n",
       "             n_estimators=100, n_jobs=4, num_parallel_tree=1, random_state=0,\n",
       "             reg_alpha=0, reg_lambda=1, scale_pos_weight=1, subsample=1,\n",
       "             tree_method='exact', validate_parameters=1, verbosity=None)"
      ]
     },
     "execution_count": 6,
     "metadata": {},
     "output_type": "execute_result"
    }
   ],
   "source": [
    "xg_reg.fit(X_train[fil_feat],np.array(y_train).ravel())"
   ]
  },
  {
   "cell_type": "code",
   "execution_count": 7,
   "id": "b95bdb70-fea8-419e-ae2e-1e7074c510c3",
   "metadata": {},
   "outputs": [],
   "source": [
    "y_pred = xg_reg.predict(X_test[fil_feat])"
   ]
  },
  {
   "cell_type": "markdown",
   "id": "f94361cb-b687-4383-b52e-8c97e02a6f91",
   "metadata": {},
   "source": [
    "#### Check Feature Importance (Ranked by XGBoost)"
   ]
  },
  {
   "cell_type": "code",
   "execution_count": 8,
   "id": "1939001d-05e7-4b38-a3c8-c3303ff6fa45",
   "metadata": {},
   "outputs": [],
   "source": [
    "importance = xg_reg.feature_importances_\n",
    "importance_df = pd.Series(importance, index=fil_feat)"
   ]
  },
  {
   "cell_type": "code",
   "execution_count": 9,
   "id": "5b1d921b-09bc-4cea-b737-b7de0b222f8b",
   "metadata": {
    "scrolled": true,
    "tags": []
   },
   "outputs": [
    {
     "data": {
      "text/plain": [
       "dep_morning                  0.057716\n",
       "Taxi_Holdup                  0.051784\n",
       "dest_7                       0.038953\n",
       "origin_7                     0.035915\n",
       "origin_2                     0.035768\n",
       "dow_Saturday                 0.035414\n",
       "origin_1                     0.030707\n",
       "arr_evening                  0.029565\n",
       "dep_evening                  0.027424\n",
       "origin_5                     0.026246\n",
       "origin_4                     0.025641\n",
       "Type_Fog                     0.024262\n",
       "Type_Cold                    0.023990\n",
       "Type_Snow                    0.023697\n",
       "dow_Sunday                   0.023478\n",
       "origin_3                     0.023360\n",
       "dep_dawn                     0.022956\n",
       "dow_Friday                   0.022722\n",
       "dow_Thursday                 0.021377\n",
       "dest_1                       0.021367\n",
       "origin_6                     0.021219\n",
       "dest_9                       0.021154\n",
       "arr_morning                  0.020735\n",
       "origin_9                     0.020635\n",
       "mkt_op_carrier_difference    0.020622\n",
       "dest_6                       0.020260\n",
       "origin_8                     0.019816\n",
       "dest_5                       0.019608\n",
       "origin_0                     0.018789\n",
       "dest_8                       0.018774\n",
       "Passengers_Seat_Ratio        0.018625\n",
       "dest_2                       0.018154\n",
       "dow_Monday                   0.017657\n",
       "dest_4                       0.017450\n",
       "dep_noon                     0.016189\n",
       "dow_Tuesday                  0.015834\n",
       "crs_elapsed_time             0.014440\n",
       "arr_dawn                     0.013645\n",
       "distance                     0.013612\n",
       "Type_Rain                    0.012802\n",
       "dest_3                       0.012170\n",
       "dest_0                       0.011270\n",
       "arr_noon                     0.010824\n",
       "Type_Hail                    0.003374\n",
       "Type_Precipitation           0.000000\n",
       "dtype: float32"
      ]
     },
     "execution_count": 9,
     "metadata": {},
     "output_type": "execute_result"
    }
   ],
   "source": [
    "importance_df.sort_values(ascending=False)"
   ]
  },
  {
   "cell_type": "markdown",
   "id": "1a57d1d7-f30d-4c2f-82f1-60883a454d27",
   "metadata": {},
   "source": [
    "### Check Scores"
   ]
  },
  {
   "cell_type": "code",
   "execution_count": 10,
   "id": "bfedf524-3da4-4603-a79d-d0f68a4494a6",
   "metadata": {},
   "outputs": [
    {
     "name": "stdout",
     "output_type": "stream",
     "text": [
      "The R2 score is: 0.11286055431113862\n",
      "The R2 score is: 0.11286055431113862\n",
      "The MSE is: 2678.2325840332996\n",
      "The MAE is: 24.11173859169771\n"
     ]
    }
   ],
   "source": [
    "print('The R2 score is:', xg_reg.score(X_test[fil_feat],y_test))\n",
    "print('The R2 score is:', r2_score(y_test,y_pred))\n",
    "print('The MSE is:', mean_squared_error(y_test,y_pred))\n",
    "print('The MAE is:', mean_absolute_error(y_test,y_pred))"
   ]
  },
  {
   "cell_type": "markdown",
   "id": "a32bf42a-4248-4949-99e5-118b3557b6d5",
   "metadata": {},
   "source": [
    "## Optimize HyperParameters"
   ]
  },
  {
   "cell_type": "code",
   "execution_count": 11,
   "id": "d7e468d0-9a62-4ab4-89f1-726902e2bb1d",
   "metadata": {},
   "outputs": [],
   "source": [
    "from sklearn.model_selection import GridSearchCV"
   ]
  },
  {
   "cell_type": "code",
   "execution_count": 12,
   "id": "e52cc25f-8ee7-4f82-a4dc-0ce38d4ce618",
   "metadata": {},
   "outputs": [],
   "source": [
    "xg_params_grid=[\n",
    "    {'n_estimators':[45],\n",
    "     'max_depth':[5],\n",
    "     'reg_alpha':[0.57],\n",
    "    }\n",
    "]"
   ]
  },
  {
   "cell_type": "code",
   "execution_count": 13,
   "id": "442f5b62-44b1-4589-8ae6-dbd9de5129b1",
   "metadata": {},
   "outputs": [],
   "source": [
    "gs_gx = GridSearchCV(estimator=xg_reg,\n",
    "                     param_grid=xg_params_grid,\n",
    "                     n_jobs=-1)"
   ]
  },
  {
   "cell_type": "code",
   "execution_count": 14,
   "id": "96594c01-9063-4bd0-86a0-4b48920a8672",
   "metadata": {},
   "outputs": [
    {
     "data": {
      "text/plain": [
       "GridSearchCV(estimator=XGBRegressor(base_score=0.5, booster='gbtree',\n",
       "                                    colsample_bylevel=1, colsample_bynode=1,\n",
       "                                    colsample_bytree=1, gamma=0, gpu_id=-1,\n",
       "                                    importance_type='gain',\n",
       "                                    interaction_constraints='',\n",
       "                                    learning_rate=0.300000012, max_delta_step=0,\n",
       "                                    max_depth=6, min_child_weight=1,\n",
       "                                    missing=nan, monotone_constraints='()',\n",
       "                                    n_estimators=100, n_jobs=4,\n",
       "                                    num_parallel_tree=1, random_state=0,\n",
       "                                    reg_alpha=0, reg_lambda=1,\n",
       "                                    scale_pos_weight=1, subsample=1,\n",
       "                                    tree_method='exact', validate_parameters=1,\n",
       "                                    verbosity=None),\n",
       "             n_jobs=-1,\n",
       "             param_grid=[{'max_depth': [5], 'n_estimators': [45],\n",
       "                          'reg_alpha': [0.57]}])"
      ]
     },
     "execution_count": 14,
     "metadata": {},
     "output_type": "execute_result"
    }
   ],
   "source": [
    "gs_gx.fit(X_train[fil_feat],np.array(y_train).ravel())"
   ]
  },
  {
   "cell_type": "code",
   "execution_count": 15,
   "id": "4342c751-f30f-4582-bfe0-cdc6fb0a5707",
   "metadata": {},
   "outputs": [
    {
     "name": "stdout",
     "output_type": "stream",
     "text": [
      "The best parameters are: {'max_depth': 5, 'n_estimators': 45, 'reg_alpha': 0.57}\n",
      "The best CV score was: 0.11602180747596143\n"
     ]
    }
   ],
   "source": [
    "#print('The best estimator:', gs_gx.best_estimator_)\n",
    "print('The best parameters are:', gs_gx.best_params_)\n",
    "print('The best CV score was:', gs_gx.best_score_)"
   ]
  },
  {
   "cell_type": "markdown",
   "id": "086a8913-509e-41f5-83cc-fd566ce10454",
   "metadata": {},
   "source": [
    "### NOTE: GridSearch was conducted in batches due to computational strain. Working with large datasets with high cardinality required long wait times."
   ]
  },
  {
   "cell_type": "markdown",
   "id": "cbf3e3bd-dd2f-4854-a0f0-b825b1373c08",
   "metadata": {},
   "source": [
    "### Optimized XGBoost Model"
   ]
  },
  {
   "cell_type": "code",
   "execution_count": 16,
   "id": "2a141f32-8d61-4d7a-99c8-a5d4cf05f0cc",
   "metadata": {},
   "outputs": [],
   "source": [
    "xg_model = xgb.XGBRegressor(max_depth=5, n_estimators=45,reg_alpha=0.57)"
   ]
  },
  {
   "cell_type": "code",
   "execution_count": 17,
   "id": "41386e8f-43a0-4f9a-ac72-b02d9c385187",
   "metadata": {},
   "outputs": [
    {
     "data": {
      "text/plain": [
       "XGBRegressor(base_score=0.5, booster='gbtree', colsample_bylevel=1,\n",
       "             colsample_bynode=1, colsample_bytree=1, gamma=0, gpu_id=-1,\n",
       "             importance_type='gain', interaction_constraints='',\n",
       "             learning_rate=0.300000012, max_delta_step=0, max_depth=5,\n",
       "             min_child_weight=1, missing=nan, monotone_constraints='()',\n",
       "             n_estimators=45, n_jobs=4, num_parallel_tree=1, random_state=0,\n",
       "             reg_alpha=0.57, reg_lambda=1, scale_pos_weight=1, subsample=1,\n",
       "             tree_method='exact', validate_parameters=1, verbosity=None)"
      ]
     },
     "execution_count": 17,
     "metadata": {},
     "output_type": "execute_result"
    }
   ],
   "source": [
    "xg_model.fit(X_train[fil_feat],np.array(y_train).ravel())"
   ]
  },
  {
   "cell_type": "code",
   "execution_count": 18,
   "id": "f14e0a06-28a3-4df4-837d-e1b7e68da4e5",
   "metadata": {},
   "outputs": [],
   "source": [
    "y_pred = xg_model.predict(X_test[fil_feat])"
   ]
  },
  {
   "cell_type": "code",
   "execution_count": 19,
   "id": "7b4ef898-091d-469e-b153-74a704a18819",
   "metadata": {},
   "outputs": [],
   "source": [
    "importance_model = xg_model.feature_importances_\n",
    "importance_df_model = pd.Series(importance_model, index=fil_feat)"
   ]
  },
  {
   "cell_type": "code",
   "execution_count": 20,
   "id": "413a0e18-e36a-4f90-9bc0-4a2056c1bb44",
   "metadata": {
    "scrolled": true,
    "tags": []
   },
   "outputs": [
    {
     "data": {
      "text/plain": [
       "Taxi_Holdup                  0.089861\n",
       "dep_morning                  0.081416\n",
       "dest_7                       0.035911\n",
       "origin_7                     0.034678\n",
       "origin_6                     0.030319\n",
       "arr_evening                  0.028679\n",
       "dow_Saturday                 0.027361\n",
       "Type_Fog                     0.027100\n",
       "Type_Cold                    0.027018\n",
       "dep_evening                  0.025810\n",
       "dest_5                       0.025135\n",
       "dest_8                       0.024622\n",
       "mkt_op_carrier_difference    0.024315\n",
       "dow_Thursday                 0.023323\n",
       "origin_2                     0.023209\n",
       "dest_2                       0.022676\n",
       "dow_Monday                   0.022124\n",
       "origin_5                     0.022039\n",
       "dow_Tuesday                  0.021484\n",
       "origin_3                     0.021371\n",
       "origin_8                     0.020928\n",
       "dow_Friday                   0.020846\n",
       "arr_morning                  0.020595\n",
       "origin_1                     0.019886\n",
       "dow_Sunday                   0.019070\n",
       "dest_4                       0.018934\n",
       "dest_9                       0.018602\n",
       "Type_Snow                    0.018085\n",
       "Type_Rain                    0.016680\n",
       "arr_dawn                     0.016356\n",
       "origin_4                     0.016316\n",
       "origin_0                     0.015559\n",
       "origin_9                     0.015407\n",
       "Passengers_Seat_Ratio        0.014676\n",
       "dest_6                       0.014437\n",
       "dest_1                       0.014314\n",
       "crs_elapsed_time             0.013277\n",
       "distance                     0.012820\n",
       "dep_noon                     0.012451\n",
       "dep_dawn                     0.011019\n",
       "arr_noon                     0.010774\n",
       "dest_0                       0.010521\n",
       "dest_3                       0.009995\n",
       "Type_Precipitation           0.000000\n",
       "Type_Hail                    0.000000\n",
       "dtype: float32"
      ]
     },
     "execution_count": 20,
     "metadata": {},
     "output_type": "execute_result"
    }
   ],
   "source": [
    "importance_df_model.sort_values(ascending=False)"
   ]
  },
  {
   "cell_type": "code",
   "execution_count": 21,
   "id": "c9d1d44a-490d-407e-b2dd-f1c2a872aa20",
   "metadata": {},
   "outputs": [
    {
     "name": "stdout",
     "output_type": "stream",
     "text": [
      "The R2 score is: 0.1186715106110856\n",
      "The R2 score is: 0.1186715106110856\n",
      "The MSE is: 2660.6895781591475\n",
      "The MAE is: 24.254642642709292\n"
     ]
    }
   ],
   "source": [
    "print('The R2 score is:', xg_model.score(X_test[fil_feat],y_test))\n",
    "print('The R2 score is:', r2_score(y_test,y_pred))\n",
    "print('The MSE is:', mean_squared_error(y_test,y_pred))\n",
    "print('The MAE is:', mean_absolute_error(y_test,y_pred))"
   ]
  },
  {
   "cell_type": "markdown",
   "id": "e340cdf2-c08c-495e-9f03-f8fd261c8391",
   "metadata": {},
   "source": [
    "### Export Model to Pickle"
   ]
  },
  {
   "cell_type": "code",
   "execution_count": 22,
   "id": "c9d5a5dd-345a-4621-9b98-84ca3443af57",
   "metadata": {},
   "outputs": [],
   "source": [
    "import pickle"
   ]
  },
  {
   "cell_type": "code",
   "execution_count": 24,
   "id": "d4148cc7-d77e-485d-8534-864a492c65aa",
   "metadata": {},
   "outputs": [],
   "source": [
    "pickle.dump(xg_model, open('final_gxboost_model.sav', 'wb'))"
   ]
  }
 ],
 "metadata": {
  "kernelspec": {
   "display_name": "Python 3 (ipykernel)",
   "language": "python",
   "name": "python3"
  },
  "language_info": {
   "codemirror_mode": {
    "name": "ipython",
    "version": 3
   },
   "file_extension": ".py",
   "mimetype": "text/x-python",
   "name": "python",
   "nbconvert_exporter": "python",
   "pygments_lexer": "ipython3",
   "version": "3.8.12"
  }
 },
 "nbformat": 4,
 "nbformat_minor": 5
}
