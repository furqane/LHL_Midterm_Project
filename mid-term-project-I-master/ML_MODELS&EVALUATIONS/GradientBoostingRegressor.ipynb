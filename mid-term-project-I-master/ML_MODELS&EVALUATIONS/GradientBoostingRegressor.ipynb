{
 "cells": [
  {
   "cell_type": "code",
   "execution_count": 1,
   "id": "e8eee9d0-6a9e-4760-8dd5-e5dbfc76c755",
   "metadata": {},
   "outputs": [],
   "source": [
    "import pandas as pd\n",
    "import numpy as np\n",
    "pd.set_option('display.max_columns', None)"
   ]
  },
  {
   "cell_type": "code",
   "execution_count": 2,
   "id": "da517284-2f88-4662-b4df-e97563d50360",
   "metadata": {},
   "outputs": [],
   "source": [
    "X_train=pd.read_csv('X_train.csv', index_col=[0])\n",
    "X_test=pd.read_csv('X_test.csv', index_col=[0])\n",
    "y_train=pd.read_csv('y_train.csv', index_col=[0])\n",
    "y_test=pd.read_csv('y_test.csv', index_col=[0])"
   ]
  },
  {
   "cell_type": "code",
   "execution_count": 3,
   "id": "3b66e835-ffc4-4d46-9ae5-38a1755076ee",
   "metadata": {},
   "outputs": [],
   "source": [
    "from sklearn.metrics import r2_score\n",
    "from sklearn.metrics import mean_squared_error\n",
    "from sklearn.metrics import mean_absolute_error"
   ]
  },
  {
   "cell_type": "code",
   "execution_count": 8,
   "id": "905054e3-9513-4f4c-b089-e1c7b01fafb7",
   "metadata": {},
   "outputs": [],
   "source": [
    "features_list = ['mkt_op_carrier_difference', 'Type_Cold', 'Type_Fog', 'Type_Hail',\n",
    "       'Type_Precipitation', 'Type_Rain', 'Type_Snow', 'dow_Friday',\n",
    "       'dow_Monday', 'dow_Saturday', 'dow_Sunday', 'dow_Thursday',\n",
    "       'dow_Tuesday', 'arr_dawn', 'arr_evening', 'arr_morning',\n",
    "       'arr_noon', 'dep_dawn', 'dep_evening', 'dep_morning', 'dep_noon',\n",
    "       'aircraft_4', 'aircraft_6', 'muc_AS', 'muc_B6', 'muc_DL', 'muc_F9',\n",
    "       'muc_G4', 'muc_HA', 'muc_NK', 'muc_UA', 'muc_WN',\n",
    "       'Passengers_Seat_Ratio', 'distance', 'Taxi_Holdup',\n",
    "       'crs_elapsed_time', 'origin_label', 'dest_label', \n",
    "       'origin_0','origin_1', 'origin_2', 'origin_3', 'origin_4', 'origin_5',\n",
    "       'origin_6', 'origin_7', 'origin_8', 'origin_9', 'dest_0', 'dest_1',\n",
    "       'dest_2', 'dest_3', 'dest_4', 'dest_5', 'dest_6', 'dest_7', 'dest_8', 'dest_9']"
   ]
  },
  {
   "cell_type": "code",
   "execution_count": 46,
   "id": "335788e5-96df-4e59-bf63-ecf38b371f56",
   "metadata": {},
   "outputs": [],
   "source": [
    "fil_feat = ['Type_Cold', 'Type_Fog', 'Type_Hail',\n",
    "       'Type_Precipitation', 'Type_Rain', 'Type_Snow', 'dow_Friday',\n",
    "       'dow_Monday', 'dow_Saturday', 'dow_Sunday', 'dow_Thursday',\n",
    "       'dow_Tuesday', 'arr_dawn', 'arr_evening', 'arr_morning',\n",
    "       'arr_noon', 'dep_dawn', 'dep_evening', 'dep_morning', 'dep_noon','muc_AS', 'muc_B6', 'muc_DL', 'muc_F9',\n",
    "       'muc_G4', 'muc_HA', 'muc_NK', 'muc_UA', 'muc_WN',\n",
    "       'Passengers_Seat_Ratio', 'distance', 'Taxi_Holdup',\n",
    "       'crs_elapsed_time','origin_0','origin_1', 'origin_2', 'origin_3', 'origin_4', 'origin_5',\n",
    "       'origin_6', 'origin_7', 'origin_8', 'origin_9', 'dest_0', 'dest_1',\n",
    "       'dest_2', 'dest_3', 'dest_4', 'dest_5', 'dest_6', 'dest_7', 'dest_8', 'dest_9']"
   ]
  },
  {
   "cell_type": "code",
   "execution_count": 47,
   "id": "6ea12c61-cac0-47e6-a439-5e421e60324c",
   "metadata": {},
   "outputs": [],
   "source": [
    "from sklearn.ensemble import GradientBoostingRegressor"
   ]
  },
  {
   "cell_type": "code",
   "execution_count": 48,
   "id": "e5fe980d-820b-461f-a8fa-cc0f37ddc5e5",
   "metadata": {},
   "outputs": [
    {
     "data": {
      "text/plain": [
       "GradientBoostingRegressor()"
      ]
     },
     "execution_count": 48,
     "metadata": {},
     "output_type": "execute_result"
    }
   ],
   "source": [
    "gr = GradientBoostingRegressor()\n",
    "gr.fit(X_train[fil_feat],np.array(y_train).ravel())"
   ]
  },
  {
   "cell_type": "code",
   "execution_count": 49,
   "id": "19ae3c07-3756-4a8c-8200-1c224a09e5c3",
   "metadata": {},
   "outputs": [],
   "source": [
    "y_pred = gr.predict(X_test[fil_feat])"
   ]
  },
  {
   "cell_type": "code",
   "execution_count": 50,
   "id": "4958edbe-4de0-4003-b080-8bd3c38806e5",
   "metadata": {},
   "outputs": [],
   "source": [
    "importance = gr.feature_importances_\n",
    "importance_df = pd.Series(importance, index=fil_feat)"
   ]
  },
  {
   "cell_type": "code",
   "execution_count": 51,
   "id": "fa6f9218-e4ca-4ed6-a483-846813ef80c9",
   "metadata": {},
   "outputs": [
    {
     "data": {
      "text/plain": [
       "Taxi_Holdup              0.623968\n",
       "dep_morning              0.062616\n",
       "dest_7                   0.038160\n",
       "crs_elapsed_time         0.026646\n",
       "muc_UA                   0.023941\n",
       "origin_2                 0.021073\n",
       "distance                 0.018135\n",
       "dow_Thursday             0.016069\n",
       "origin_7                 0.015812\n",
       "Type_Fog                 0.014772\n",
       "arr_evening              0.010950\n",
       "muc_DL                   0.010778\n",
       "dest_5                   0.010072\n",
       "origin_8                 0.009247\n",
       "Passengers_Seat_Ratio    0.007720\n",
       "origin_0                 0.006858\n",
       "muc_B6                   0.006736\n",
       "origin_5                 0.005810\n",
       "arr_morning              0.005169\n",
       "dow_Saturday             0.004640\n",
       "origin_1                 0.004495\n",
       "dest_9                   0.004434\n",
       "dep_evening              0.004245\n",
       "dest_4                   0.004241\n",
       "Type_Snow                0.004187\n",
       "dest_2                   0.004182\n",
       "dest_8                   0.003909\n",
       "origin_3                 0.003599\n",
       "dest_1                   0.003574\n",
       "origin_9                 0.003517\n",
       "dow_Tuesday              0.003260\n",
       "muc_G4                   0.002704\n",
       "dest_6                   0.001933\n",
       "Type_Rain                0.001810\n",
       "dep_dawn                 0.001728\n",
       "origin_6                 0.001374\n",
       "dest_0                   0.001261\n",
       "dow_Sunday               0.001191\n",
       "dow_Monday               0.001036\n",
       "muc_HA                   0.000774\n",
       "muc_F9                   0.000732\n",
       "dow_Friday               0.000576\n",
       "dep_noon                 0.000468\n",
       "muc_WN                   0.000396\n",
       "arr_noon                 0.000394\n",
       "origin_4                 0.000353\n",
       "dest_3                   0.000136\n",
       "Type_Cold                0.000111\n",
       "muc_NK                   0.000105\n",
       "arr_dawn                 0.000103\n",
       "muc_AS                   0.000000\n",
       "Type_Precipitation       0.000000\n",
       "Type_Hail                0.000000\n",
       "dtype: float64"
      ]
     },
     "execution_count": 51,
     "metadata": {},
     "output_type": "execute_result"
    }
   ],
   "source": [
    "importance_df.sort_values(ascending=False)"
   ]
  },
  {
   "cell_type": "code",
   "execution_count": 52,
   "id": "80a5849b-b7e3-4338-9c67-0f76ad58afb3",
   "metadata": {},
   "outputs": [
    {
     "name": "stdout",
     "output_type": "stream",
     "text": [
      "The R2 score is: 0.10415304967863503\n",
      "The R2 score is: 0.10415304967863503\n",
      "The MSE is: 2704.5201341424977\n",
      "The MAE is: 24.659777222205797\n"
     ]
    }
   ],
   "source": [
    "print('The R2 score is:', gr.score(X_test[fil_feat],y_test))\n",
    "print('The R2 score is:', r2_score(y_test,y_pred))\n",
    "print('The MSE is:', mean_squared_error(y_test,y_pred))\n",
    "print('The MAE is:', mean_absolute_error(y_test,y_pred))"
   ]
  },
  {
   "cell_type": "markdown",
   "id": "a5d19d47-3330-40e4-a1b6-788dfa529e88",
   "metadata": {},
   "source": [
    "### Base XGBoost Model performed better - hence no further exploration here"
   ]
  }
 ],
 "metadata": {
  "kernelspec": {
   "display_name": "Python 3 (ipykernel)",
   "language": "python",
   "name": "python3"
  },
  "language_info": {
   "codemirror_mode": {
    "name": "ipython",
    "version": 3
   },
   "file_extension": ".py",
   "mimetype": "text/x-python",
   "name": "python",
   "nbconvert_exporter": "python",
   "pygments_lexer": "ipython3",
   "version": "3.8.12"
  }
 },
 "nbformat": 4,
 "nbformat_minor": 5
}
