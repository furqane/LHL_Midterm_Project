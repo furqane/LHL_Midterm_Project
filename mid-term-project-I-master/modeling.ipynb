{
 "cells": [
  {
   "cell_type": "markdown",
   "metadata": {},
   "source": [
    "# Machine Learning\n"
   ]
  },
  {
   "cell_type": "code",
   "execution_count": 2,
   "metadata": {},
   "outputs": [],
   "source": [
    "import pandas as pd\n",
    "import numpy as np\n",
    "import os\n",
    "from sklearn.model_selection import train_test_split \n",
    "from sklearn.ensemble import RandomForestClassifier,RandomForestRegressor \n",
    "from sklearn.preprocessing import LabelEncoder\n",
    "from sklearn.preprocessing import OrdinalEncoder \n",
    "import pickle\n",
    "from sklearn.metrics import r2_score,mean_absolute_error,mean_squared_error\n",
    "from sklearn import svm"
   ]
  },
  {
   "cell_type": "markdown",
   "metadata": {
    "tags": []
   },
   "source": [
    "### Loading, and concat x and y csv's"
   ]
  },
  {
   "cell_type": "code",
   "execution_count": 16,
   "metadata": {},
   "outputs": [],
   "source": [
    "X_train = pd.read_csv('X_train.csv')\n",
    "Y_train = pd.read_csv('Y_train.csv')\n",
    "X_test = pd.read_csv('X_test.csv')\n",
    "Y_test = pd.read_csv('Y_test.csv')"
   ]
  },
  {
   "cell_type": "code",
   "execution_count": 17,
   "metadata": {
    "tags": []
   },
   "outputs": [
    {
     "data": {
      "text/html": [
       "<div>\n",
       "<style scoped>\n",
       "    .dataframe tbody tr th:only-of-type {\n",
       "        vertical-align: middle;\n",
       "    }\n",
       "\n",
       "    .dataframe tbody tr th {\n",
       "        vertical-align: top;\n",
       "    }\n",
       "\n",
       "    .dataframe thead th {\n",
       "        text-align: right;\n",
       "    }\n",
       "</style>\n",
       "<table border=\"1\" class=\"dataframe\">\n",
       "  <thead>\n",
       "    <tr style=\"text-align: right;\">\n",
       "      <th></th>\n",
       "      <th>Unnamed: 0</th>\n",
       "      <th>mkt_op_carrier_difference</th>\n",
       "      <th>Type_Cold</th>\n",
       "      <th>Type_Fog</th>\n",
       "      <th>Type_Hail</th>\n",
       "      <th>Type_Precipitation</th>\n",
       "      <th>Type_Rain</th>\n",
       "      <th>Type_Snow</th>\n",
       "      <th>dow_Friday</th>\n",
       "      <th>dow_Monday</th>\n",
       "      <th>...</th>\n",
       "      <th>dest_0</th>\n",
       "      <th>dest_1</th>\n",
       "      <th>dest_2</th>\n",
       "      <th>dest_3</th>\n",
       "      <th>dest_4</th>\n",
       "      <th>dest_5</th>\n",
       "      <th>dest_6</th>\n",
       "      <th>dest_7</th>\n",
       "      <th>dest_8</th>\n",
       "      <th>dest_9</th>\n",
       "    </tr>\n",
       "  </thead>\n",
       "  <tbody>\n",
       "    <tr>\n",
       "      <th>0</th>\n",
       "      <td>0</td>\n",
       "      <td>1</td>\n",
       "      <td>0</td>\n",
       "      <td>1</td>\n",
       "      <td>0</td>\n",
       "      <td>0</td>\n",
       "      <td>0</td>\n",
       "      <td>0</td>\n",
       "      <td>0</td>\n",
       "      <td>1</td>\n",
       "      <td>...</td>\n",
       "      <td>2.0</td>\n",
       "      <td>-2.0</td>\n",
       "      <td>5.0</td>\n",
       "      <td>2.0</td>\n",
       "      <td>-1.0</td>\n",
       "      <td>1.0</td>\n",
       "      <td>1.0</td>\n",
       "      <td>0.0</td>\n",
       "      <td>-1.0</td>\n",
       "      <td>-2.0</td>\n",
       "    </tr>\n",
       "    <tr>\n",
       "      <th>1</th>\n",
       "      <td>1</td>\n",
       "      <td>0</td>\n",
       "      <td>0</td>\n",
       "      <td>0</td>\n",
       "      <td>0</td>\n",
       "      <td>0</td>\n",
       "      <td>1</td>\n",
       "      <td>0</td>\n",
       "      <td>0</td>\n",
       "      <td>0</td>\n",
       "      <td>...</td>\n",
       "      <td>3.0</td>\n",
       "      <td>-3.0</td>\n",
       "      <td>3.0</td>\n",
       "      <td>1.0</td>\n",
       "      <td>0.0</td>\n",
       "      <td>0.0</td>\n",
       "      <td>0.0</td>\n",
       "      <td>0.0</td>\n",
       "      <td>0.0</td>\n",
       "      <td>-2.0</td>\n",
       "    </tr>\n",
       "  </tbody>\n",
       "</table>\n",
       "<p>2 rows × 59 columns</p>\n",
       "</div>"
      ],
      "text/plain": [
       "   Unnamed: 0  mkt_op_carrier_difference  Type_Cold  Type_Fog  Type_Hail  \\\n",
       "0           0                          1          0         1          0   \n",
       "1           1                          0          0         0          0   \n",
       "\n",
       "   Type_Precipitation  Type_Rain  Type_Snow  dow_Friday  dow_Monday  ...  \\\n",
       "0                   0          0          0           0           1  ...   \n",
       "1                   0          1          0           0           0  ...   \n",
       "\n",
       "   dest_0  dest_1  dest_2  dest_3  dest_4  dest_5  dest_6  dest_7  dest_8  \\\n",
       "0     2.0    -2.0     5.0     2.0    -1.0     1.0     1.0     0.0    -1.0   \n",
       "1     3.0    -3.0     3.0     1.0     0.0     0.0     0.0     0.0     0.0   \n",
       "\n",
       "   dest_9  \n",
       "0    -2.0  \n",
       "1    -2.0  \n",
       "\n",
       "[2 rows x 59 columns]"
      ]
     },
     "execution_count": 17,
     "metadata": {},
     "output_type": "execute_result"
    }
   ],
   "source": [
    "X_train.head(2)"
   ]
  },
  {
   "cell_type": "code",
   "execution_count": 18,
   "metadata": {
    "tags": []
   },
   "outputs": [
    {
     "data": {
      "text/html": [
       "<div>\n",
       "<style scoped>\n",
       "    .dataframe tbody tr th:only-of-type {\n",
       "        vertical-align: middle;\n",
       "    }\n",
       "\n",
       "    .dataframe tbody tr th {\n",
       "        vertical-align: top;\n",
       "    }\n",
       "\n",
       "    .dataframe thead th {\n",
       "        text-align: right;\n",
       "    }\n",
       "</style>\n",
       "<table border=\"1\" class=\"dataframe\">\n",
       "  <thead>\n",
       "    <tr style=\"text-align: right;\">\n",
       "      <th></th>\n",
       "      <th>Unnamed: 0</th>\n",
       "      <th>arr_delay</th>\n",
       "    </tr>\n",
       "  </thead>\n",
       "  <tbody>\n",
       "    <tr>\n",
       "      <th>0</th>\n",
       "      <td>0</td>\n",
       "      <td>-11.0</td>\n",
       "    </tr>\n",
       "    <tr>\n",
       "      <th>1</th>\n",
       "      <td>1</td>\n",
       "      <td>-14.0</td>\n",
       "    </tr>\n",
       "  </tbody>\n",
       "</table>\n",
       "</div>"
      ],
      "text/plain": [
       "   Unnamed: 0  arr_delay\n",
       "0           0      -11.0\n",
       "1           1      -14.0"
      ]
     },
     "execution_count": 18,
     "metadata": {},
     "output_type": "execute_result"
    }
   ],
   "source": [
    "Y_train.head(2)"
   ]
  },
  {
   "cell_type": "code",
   "execution_count": 19,
   "metadata": {},
   "outputs": [
    {
     "data": {
      "text/html": [
       "<div>\n",
       "<style scoped>\n",
       "    .dataframe tbody tr th:only-of-type {\n",
       "        vertical-align: middle;\n",
       "    }\n",
       "\n",
       "    .dataframe tbody tr th {\n",
       "        vertical-align: top;\n",
       "    }\n",
       "\n",
       "    .dataframe thead th {\n",
       "        text-align: right;\n",
       "    }\n",
       "</style>\n",
       "<table border=\"1\" class=\"dataframe\">\n",
       "  <thead>\n",
       "    <tr style=\"text-align: right;\">\n",
       "      <th></th>\n",
       "      <th>Unnamed: 0</th>\n",
       "      <th>mkt_op_carrier_difference</th>\n",
       "      <th>Type_Cold</th>\n",
       "      <th>Type_Fog</th>\n",
       "      <th>Type_Hail</th>\n",
       "      <th>Type_Precipitation</th>\n",
       "      <th>Type_Rain</th>\n",
       "      <th>Type_Snow</th>\n",
       "      <th>dow_Friday</th>\n",
       "      <th>dow_Monday</th>\n",
       "      <th>...</th>\n",
       "      <th>dest_2</th>\n",
       "      <th>dest_3</th>\n",
       "      <th>dest_4</th>\n",
       "      <th>dest_5</th>\n",
       "      <th>dest_6</th>\n",
       "      <th>dest_7</th>\n",
       "      <th>dest_8</th>\n",
       "      <th>dest_9</th>\n",
       "      <th>Unnamed: 0</th>\n",
       "      <th>arr_delay</th>\n",
       "    </tr>\n",
       "  </thead>\n",
       "  <tbody>\n",
       "    <tr>\n",
       "      <th>0</th>\n",
       "      <td>0</td>\n",
       "      <td>1</td>\n",
       "      <td>0</td>\n",
       "      <td>1</td>\n",
       "      <td>0</td>\n",
       "      <td>0</td>\n",
       "      <td>0</td>\n",
       "      <td>0</td>\n",
       "      <td>0</td>\n",
       "      <td>1</td>\n",
       "      <td>...</td>\n",
       "      <td>5.0</td>\n",
       "      <td>2.0</td>\n",
       "      <td>-1.0</td>\n",
       "      <td>1.0</td>\n",
       "      <td>1.0</td>\n",
       "      <td>0.0</td>\n",
       "      <td>-1.0</td>\n",
       "      <td>-2.0</td>\n",
       "      <td>0</td>\n",
       "      <td>-11.0</td>\n",
       "    </tr>\n",
       "    <tr>\n",
       "      <th>1</th>\n",
       "      <td>1</td>\n",
       "      <td>0</td>\n",
       "      <td>0</td>\n",
       "      <td>0</td>\n",
       "      <td>0</td>\n",
       "      <td>0</td>\n",
       "      <td>1</td>\n",
       "      <td>0</td>\n",
       "      <td>0</td>\n",
       "      <td>0</td>\n",
       "      <td>...</td>\n",
       "      <td>3.0</td>\n",
       "      <td>1.0</td>\n",
       "      <td>0.0</td>\n",
       "      <td>0.0</td>\n",
       "      <td>0.0</td>\n",
       "      <td>0.0</td>\n",
       "      <td>0.0</td>\n",
       "      <td>-2.0</td>\n",
       "      <td>1</td>\n",
       "      <td>-14.0</td>\n",
       "    </tr>\n",
       "  </tbody>\n",
       "</table>\n",
       "<p>2 rows × 61 columns</p>\n",
       "</div>"
      ],
      "text/plain": [
       "   Unnamed: 0  mkt_op_carrier_difference  Type_Cold  Type_Fog  Type_Hail  \\\n",
       "0           0                          1          0         1          0   \n",
       "1           1                          0          0         0          0   \n",
       "\n",
       "   Type_Precipitation  Type_Rain  Type_Snow  dow_Friday  dow_Monday  ...  \\\n",
       "0                   0          0          0           0           1  ...   \n",
       "1                   0          1          0           0           0  ...   \n",
       "\n",
       "   dest_2  dest_3  dest_4  dest_5  dest_6  dest_7  dest_8  dest_9  Unnamed: 0  \\\n",
       "0     5.0     2.0    -1.0     1.0     1.0     0.0    -1.0    -2.0           0   \n",
       "1     3.0     1.0     0.0     0.0     0.0     0.0     0.0    -2.0           1   \n",
       "\n",
       "   arr_delay  \n",
       "0      -11.0  \n",
       "1      -14.0  \n",
       "\n",
       "[2 rows x 61 columns]"
      ]
     },
     "execution_count": 19,
     "metadata": {},
     "output_type": "execute_result"
    }
   ],
   "source": [
    "df_all = pd.concat([X_train, Y_train], axis=1)\n",
    "df_all.head(2)"
   ]
  },
  {
   "cell_type": "markdown",
   "metadata": {
    "tags": []
   },
   "source": [
    "### Feature Engineering"
   ]
  },
  {
   "cell_type": "code",
   "execution_count": 23,
   "metadata": {},
   "outputs": [],
   "source": [
    "# list(X_train.columns)"
   ]
  },
  {
   "cell_type": "code",
   "execution_count": 22,
   "metadata": {},
   "outputs": [],
   "source": [
    "features = ['Unnamed: 0',\n",
    " 'mkt_op_carrier_difference',\n",
    " 'Type_Cold',\n",
    " 'Type_Fog',\n",
    " 'Type_Hail',\n",
    " 'Type_Precipitation',\n",
    " 'Type_Rain',\n",
    " 'Type_Snow',\n",
    " 'dow_Friday',\n",
    " 'dow_Monday',\n",
    " 'dow_Saturday',\n",
    " 'dow_Sunday',\n",
    " 'dow_Thursday',\n",
    " 'dow_Tuesday',\n",
    " 'arr_dawn',\n",
    " 'arr_evening',\n",
    " 'arr_morning',\n",
    " 'arr_noon',\n",
    " 'dep_dawn',\n",
    " 'dep_evening',\n",
    " 'dep_morning',\n",
    " 'dep_noon',\n",
    " 'aircraft_4',\n",
    " 'aircraft_6',\n",
    " 'muc_AS',\n",
    " 'muc_B6',\n",
    " 'muc_DL',\n",
    " 'muc_F9',\n",
    " 'muc_G4',\n",
    " 'muc_HA',\n",
    " 'muc_NK',\n",
    " 'muc_UA',\n",
    " 'muc_WN',\n",
    " 'Passengers_Seat_Ratio',\n",
    " 'distance',\n",
    " 'Taxi_Holdup',\n",
    " 'crs_elapsed_time',\n",
    " 'origin_label',\n",
    " 'dest_label',\n",
    " 'origin_0',\n",
    " 'origin_1',\n",
    " 'origin_2',\n",
    " 'origin_3',\n",
    " 'origin_4',\n",
    " 'origin_5',\n",
    " 'origin_6',\n",
    " 'origin_7',\n",
    " 'origin_8',\n",
    " 'origin_9',\n",
    " 'dest_0',\n",
    " 'dest_1',\n",
    " 'dest_2',\n",
    " 'dest_3',\n",
    " 'dest_4',\n",
    " 'dest_5',\n",
    " 'dest_6',\n",
    " 'dest_7',\n",
    " 'dest_8',\n",
    " 'dest_9']\n",
    "X = df_all[features] # features\n",
    "y = df_all.arr_delay # target"
   ]
  },
  {
   "cell_type": "markdown",
   "metadata": {},
   "source": [
    "### split data into train/test sets "
   ]
  },
  {
   "cell_type": "code",
   "execution_count": 24,
   "metadata": {},
   "outputs": [],
   "source": [
    "# Split dataset into training set and test set\n",
    "X_train, X_test, y_train, y_test = train_test_split(X, y, test_size=0.3, random_state=1) # 70% training and 30% test"
   ]
  },
  {
   "cell_type": "markdown",
   "metadata": {},
   "source": [
    "### Train model with all features"
   ]
  },
  {
   "cell_type": "code",
   "execution_count": 27,
   "metadata": {},
   "outputs": [
    {
     "data": {
      "text/plain": [
       "1"
      ]
     },
     "execution_count": 27,
     "metadata": {},
     "output_type": "execute_result"
    }
   ],
   "source": [
    "#Create a Gaussian Classifier\n",
    "clf=RandomForestRegressor(n_estimators=100)\n",
    "\n",
    "os.system(\"printf '\\a'\")"
   ]
  },
  {
   "cell_type": "code",
   "execution_count": 29,
   "metadata": {},
   "outputs": [
    {
     "data": {
      "text/plain": [
       "1"
      ]
     },
     "execution_count": 29,
     "metadata": {},
     "output_type": "execute_result"
    }
   ],
   "source": [
    "#Train the model using the training sets (X_test)\n",
    "clf.fit(X_train,y_train)\n",
    "os.system(\"printf '\\a'\")"
   ]
  },
  {
   "cell_type": "code",
   "execution_count": 32,
   "metadata": {},
   "outputs": [
    {
     "data": {
      "text/plain": [
       "0.8643236068680926"
      ]
     },
     "execution_count": 32,
     "metadata": {},
     "output_type": "execute_result"
    }
   ],
   "source": [
    "clf.score(X_train,y_train)"
   ]
  },
  {
   "cell_type": "markdown",
   "metadata": {},
   "source": [
    "### Cross validation with test"
   ]
  },
  {
   "cell_type": "code",
   "execution_count": 30,
   "metadata": {},
   "outputs": [],
   "source": [
    "y_pred = clf.predict(X_test)"
   ]
  },
  {
   "cell_type": "code",
   "execution_count": 31,
   "metadata": {},
   "outputs": [
    {
     "name": "stdout",
     "output_type": "stream",
     "text": [
      "r2 score for cross validation is: 0.030973305968993392\n",
      "mean_squared_error score for cross validation is: 3120.2960895344327\n",
      "mean_absolute_error score for cross validation is: 26.62171619786615\n"
     ]
    },
    {
     "data": {
      "text/plain": [
       "1"
      ]
     },
     "execution_count": 31,
     "metadata": {},
     "output_type": "execute_result"
    }
   ],
   "source": [
    "r2 = r2_score(y_test,y_pred)\n",
    "mean_sq_er = mean_squared_error(y_test,y_pred)\n",
    "mean_abs_er = mean_absolute_error(y_test,y_pred)\n",
    "\n",
    "print('r2 score for cross validation is: {}'.format(r2))\n",
    "print('mean_squared_error score for cross validation is: {}'.format(mean_sq_er))\n",
    "print('mean_absolute_error score for cross validation is: {}'.format(mean_abs_er))\n",
    "os.system(\"printf '\\a'\")"
   ]
  },
  {
   "cell_type": "markdown",
   "metadata": {},
   "source": [
    "### Train test Data"
   ]
  },
  {
   "cell_type": "raw",
   "metadata": {},
   "source": []
  },
  {
   "cell_type": "code",
   "execution_count": null,
   "metadata": {},
   "outputs": [],
   "source": []
  },
  {
   "cell_type": "code",
   "execution_count": null,
   "metadata": {},
   "outputs": [],
   "source": []
  },
  {
   "cell_type": "code",
   "execution_count": null,
   "metadata": {},
   "outputs": [],
   "source": []
  },
  {
   "cell_type": "code",
   "execution_count": null,
   "metadata": {},
   "outputs": [],
   "source": []
  },
  {
   "cell_type": "code",
   "execution_count": null,
   "metadata": {},
   "outputs": [],
   "source": []
  },
  {
   "cell_type": "code",
   "execution_count": null,
   "metadata": {},
   "outputs": [],
   "source": []
  }
 ],
 "metadata": {
  "kernelspec": {
   "display_name": "Python 3 (ipykernel)",
   "language": "python",
   "name": "python3"
  },
  "language_info": {
   "codemirror_mode": {
    "name": "ipython",
    "version": 3
   },
   "file_extension": ".py",
   "mimetype": "text/x-python",
   "name": "python",
   "nbconvert_exporter": "python",
   "pygments_lexer": "ipython3",
   "version": "3.8.12"
  }
 },
 "nbformat": 4,
 "nbformat_minor": 4
}
